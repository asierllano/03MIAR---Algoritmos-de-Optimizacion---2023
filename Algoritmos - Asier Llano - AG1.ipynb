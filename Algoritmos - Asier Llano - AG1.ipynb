{
 "cells": [
  {
   "attachments": {},
   "cell_type": "markdown",
   "metadata": {},
   "source": [
    "# Actividad Guiada 1 {-}\n",
    "# Asier Llano  {-}\n",
    "Link repostorio github:\n",
    "[https://github.com/asierllano/03MIAR---Algoritmos-de-Optimizacion---2023]\n",
    "\n",
    "# Torres de Hanoi\n",
    "\n",
    "Esta aplicación consiste en hacer una aplicación que solucione el problema de las torres de Hanoi.\n",
    "He hecho la solución muy similar a la presentada en la clase, con las siguientes mejoras menores:\n",
    " * En vez de limitar para N=1 he limitado para N=0 para no tener que realizar el movimiento para N=1 también\n",
    " * No he pasado el pivote porque hay que tener en cuenta que origen + destino + pivote = 6 siempre.\n",
    " * En vez de imprimir texto, he creado un generador en python, para que el resultado sea iterable y así\n",
    "   se puede utilizar los movimientos para cualquier aplicación, no solamente escribir el texto.\n",
    " * Incluidos parámetros por defecto, porque tradicionalmente el problema de las torres de Hanoi\n",
    "   empieza en la primera columna y termina en la última."
   ]
  },
  {
   "cell_type": "code",
   "execution_count": 5,
   "metadata": {},
   "outputs": [],
   "source": [
    "# Función que devuelve un iterador con los movimientos\n",
    "# que soluciona las torres de Hanoi\n",
    "def torres_hanoi(N, origen=1, destino=3):\n",
    "    if N > 0:\n",
    "        pivote = 6 - origen - destino\n",
    "        yield from torres_hanoi(N-1, origen, pivote)\n",
    "        yield (origen, destino)\n",
    "        yield from torres_hanoi(N-1, pivote, destino)"
   ]
  },
  {
   "attachments": {},
   "cell_type": "markdown",
   "metadata": {},
   "source": [
    "Realizamos dos aplicaciones diferentes, una que muestra los movimientos para N=4 y otra que cuenta los movimientos necesarios para diferentes valores de N"
   ]
  },
  {
   "cell_type": "code",
   "execution_count": 6,
   "metadata": {},
   "outputs": [
    {
     "name": "stdout",
     "output_type": "stream",
     "text": [
      "MOVIMIENTOS PARA N=4\n",
      "1. Muevo disco de 1 a 2\n",
      "2. Muevo disco de 1 a 3\n",
      "3. Muevo disco de 2 a 3\n",
      "4. Muevo disco de 1 a 2\n",
      "5. Muevo disco de 3 a 1\n",
      "6. Muevo disco de 3 a 2\n",
      "7. Muevo disco de 1 a 2\n",
      "8. Muevo disco de 1 a 3\n",
      "9. Muevo disco de 2 a 3\n",
      "10. Muevo disco de 2 a 1\n",
      "11. Muevo disco de 3 a 1\n",
      "12. Muevo disco de 2 a 3\n",
      "13. Muevo disco de 1 a 2\n",
      "14. Muevo disco de 1 a 3\n",
      "15. Muevo disco de 2 a 3\n",
      "\n",
      "NUMERO DE MOVIMIENTOS\n",
      "N=1 requiere 1 movimientos\n",
      "N=2 requiere 3 movimientos\n",
      "N=3 requiere 7 movimientos\n",
      "N=4 requiere 15 movimientos\n",
      "N=5 requiere 31 movimientos\n",
      "N=6 requiere 63 movimientos\n",
      "N=7 requiere 127 movimientos\n",
      "N=8 requiere 255 movimientos\n",
      "N=9 requiere 511 movimientos\n",
      "N=10 requiere 1023 movimientos\n",
      "N=11 requiere 2047 movimientos\n",
      "N=12 requiere 4095 movimientos\n",
      "N=13 requiere 8191 movimientos\n",
      "N=14 requiere 16383 movimientos\n",
      "N=15 requiere 32767 movimientos\n",
      "N=16 requiere 65535 movimientos\n",
      "N=17 requiere 131071 movimientos\n",
      "N=18 requiere 262143 movimientos\n",
      "N=19 requiere 524287 movimientos\n",
      "N=20 requiere 1048575 movimientos\n"
     ]
    }
   ],
   "source": [
    "# Pinta los movimientos para N=4\n",
    "print(\"MOVIMIENTOS PARA N=4\")\n",
    "movimiento = 1\n",
    "for (origen, destino) in torres_hanoi(4):\n",
    "    print(f\"{movimiento}. Muevo disco de {origen} a {destino}\")\n",
    "    movimiento+=1\n",
    "    \n",
    "# Comprueba el número de movimientos para diferentes valores de N\n",
    "print()\n",
    "print(\"NUMERO DE MOVIMIENTOS\")\n",
    "for N in range(1,21):\n",
    "    movimientos = len(list(torres_hanoi(N)))\n",
    "    print(f\"N={N} requiere {movimientos} movimientos\")\n"
   ]
  },
  {
   "attachments": {},
   "cell_type": "markdown",
   "metadata": {},
   "source": [
    "# Devolución de cambio\n",
    "\n",
    "Esta aplicación realiza la devolución de cambio en base a un sistema monetario. Es un código muy similar al realizado en clase con las siguientes mejoras:\n",
    "* Permite sistemas monetarios no ordenados\n",
    "* Utiliza división de enteros, en vez de división en coma flotante y después extraer la parte entera.\n",
    "* En vez de pintar el resultado es un generador iterable con las monedas y su cantidad para poder utilizarlo en cualquier tipo de aplicaciones.\n",
    "* En vez de sumar la cantidad hasta llegar al total, lo va restando del total, lo que simplifica el cálculo.\n",
    "* Proporciona una excepción si no se ha podido devolver el cambio"
   ]
  },
  {
   "cell_type": "code",
   "execution_count": 7,
   "metadata": {},
   "outputs": [],
   "source": [
    "# Función que devuelve el cambio de moneda basado en un sistema monetario\n",
    "def cambio_moneda(total, sistema):\n",
    "    for moneda in sorted(sistema, reverse = True):\n",
    "        cantidad = total // moneda\n",
    "        if cantidad != 0:\n",
    "            yield (moneda, cantidad)\n",
    "        total -= cantidad * moneda\n",
    "    if total != 0:\n",
    "        raise ValueError(\"No es posible devolver este cambio\")"
   ]
  },
  {
   "cell_type": "code",
   "execution_count": 8,
   "metadata": {},
   "outputs": [
    {
     "name": "stdout",
     "output_type": "stream",
     "text": [
      "El cambio de 54 es:\n",
      " * 2 monedas de 25\n",
      " * 4 monedas de 1\n"
     ]
    }
   ],
   "source": [
    "# Aplicación que devuelve el cambio de 54\n",
    "print(\"El cambio de 54 es:\")\n",
    "for (moneda, cantidad) in cambio_moneda(54, [25, 1, 10, 5]):\n",
    "    print(f\" * {cantidad} monedas de {moneda}\")"
   ]
  },
  {
   "attachments": {},
   "cell_type": "markdown",
   "metadata": {},
   "source": [
    "# Encontrar los dos puntos más cercanos\n",
    "\n",
    "Dado un conjunto de puntos devolver los puntos más cercanos en 1D, 2D, 3D...\n",
    "Empezar utilizando fuerza bruta y optimizarlo de forma recursiva\n",
    "\n",
    "## Implementación por fuerza bruta\n",
    "\n",
    "La implementación por fuerza bruta requiere probar todas las parejas de números diferentes.\n",
    "\n",
    "Hay que tener en cuenta que para $n$ puntos, hay un total de $\\frac{n·(n-1)}{2}$ parejas. Por eso el algoritmo es $O(n^2)$"
   ]
  },
  {
   "cell_type": "code",
   "execution_count": 9,
   "metadata": {},
   "outputs": [],
   "source": [
    "import random\n",
    "import math\n",
    "\n",
    "# Calcula la distancia entre puntos\n",
    "def distancia_sq(a,b):\n",
    "    result = 0\n",
    "    for i in range(len(a)):\n",
    "        d = a[i] - b[i]\n",
    "        result += d*d\n",
    "    return result\n",
    "\n",
    "# Genero una lista de puntos aleatoria\n",
    "def puntos_aleatorios(number, dimensions):\n",
    "    return [tuple(random.randrange(1,10000) for d in range(dimensions)) \\\n",
    "            for i in range(number)]\n",
    "\n",
    "#  Dado un conjunto de puntos calcula los más cercanos por fuerza bruta\n",
    "def puntos_cercanos_fuerza_bruta(puntos):\n",
    "    if len(puntos) < 2:\n",
    "        raise ValueError(\"No se puede calcular la distancia entre puntos si no hay 2\")\n",
    "    d_mejor = distancia_sq(puntos[0], puntos[1])\n",
    "    resultado = (puntos[0], puntos[1])\n",
    "    for i in range(2,len(puntos)):\n",
    "        for j in range(i):\n",
    "            d = distancia_sq(puntos[i], puntos[j])\n",
    "            if d_mejor > d:\n",
    "                d_mejor = d\n",
    "                resultado = (puntos[i], puntos[j])\n",
    "    return resultado"
   ]
  },
  {
   "attachments": {},
   "cell_type": "markdown",
   "metadata": {},
   "source": [
    "Probamos el resultado para 3D con 5 elementos:"
   ]
  },
  {
   "cell_type": "code",
   "execution_count": 10,
   "metadata": {},
   "outputs": [
    {
     "name": "stdout",
     "output_type": "stream",
     "text": [
      "Puntos más cercanos: ((2939, 4938, 5317), (3201, 5277, 2511)) en:\n",
      " * (6685, 2371, 8036)\n",
      " * (7473, 7098, 5627)\n",
      " * (5511, 8391, 9256)\n",
      " * (3201, 5277, 2511)\n",
      " * (2939, 4938, 5317)\n"
     ]
    }
   ],
   "source": [
    "puntos=puntos_aleatorios(5,3)\n",
    "cercanos=puntos_cercanos_fuerza_bruta(puntos)\n",
    "print(f\"Puntos más cercanos: {cercanos} en:\")\n",
    "for p in puntos:\n",
    "    print(f\" * {p}\")"
   ]
  },
  {
   "attachments": {},
   "cell_type": "markdown",
   "metadata": {},
   "source": [
    "## Implementación recursiva\n",
    "\n",
    "Después de bucear en la bibliografía el mejor algoritmo recursivo que he encontrado (y entendido) es el publicado por Khuller and Matias en 1995: https://www.cs.umd.edu/~samir/grant/cp.pdf\n",
    "\n",
    "Lo he encontrado por la entrada de la Wikipedia en inglés de este problema:\n",
    "https://en.wikipedia.org/wiki/Closest_pair_of_points_problem#Linear-time_randomized_algorithms\n",
    "\n",
    "Este algoritmo está muy bien explicado en el artículo y muy bien resumido en la entrada de la Wikipedia. Además, tiene la particularidad de funcionar en cualquier número de dimensiones.\n",
    "\n",
    "Los pasos son para encontrar la distancia mínima entre dos puntos de un conjunto $S$:\n",
    "\n",
    "0. Inicializar $S_1$ para que sea $S$ e $i=1$\n",
    "1. Elegir un punto $p_i$ al azar de la colección $S_i$, computar la distancia entre $p_i$ y todo el resto de los puntos de $S_i$. Llamaremos $d_i$ a esa distancia mínima.\n",
    "2. Construir una malla de paso $\\frac{d}{2\\sqrt{k}}$ (esta es la generalización para el caso N-dimensional donde $k$ es el número de dimensiones). Crear un $S_{i+1}=S_i-X_i$ donde $X_i$ es el conjunto de puntos que no tienen vecinos en una vecindad de Moore.\n",
    "3. Si $S_{i+1}=\\emptyset$ entonces $i=i+1$ e ir al paso 1, sino entonces continuar al paso 4.\n",
    "4. Construir un mallado de $S$ (el original), de paso $d_i$. Para cada punto calcular la distancia con sus vecinos y elegir el mínimo.\n",
    "\n",
    "La complejidad del algoritmo es $O(n)$ por el hecho de que estadísticamente en el paso 2 se eliminan la mayoría de puntos y la colección decrece geométricamente, por lo que el tiempo que domina es el de la primera iteración. \n",
    "\n",
    "Se recomienda ver el artículo para más detalle."
   ]
  },
  {
   "cell_type": "code",
   "execution_count": 11,
   "metadata": {},
   "outputs": [],
   "source": [
    "# Calcula la distancia entre puntos\n",
    "#   a: Primer punto para calcular la distancia\n",
    "#   b: Segundo punto para calcular la distancia\n",
    "def distancia(a,b):\n",
    "    result = 0\n",
    "    for i in range(len(a)):\n",
    "        d = a[i] - b[i]\n",
    "        result += d*d\n",
    "    return math.sqrt(result)\n",
    "\n",
    "# Infinitio utilizado como distancia máxima\n",
    "infinito = float(\"inf\")    \n",
    "\n",
    "# Dada una colección de puntos devuelve el punto más cercano a uno dado\n",
    "#   p:        Punto para calcular su más cercano\n",
    "#   puntos:   Lista de pntos para obtener el mas cercano\n",
    "# devuelve: (p2, distancia)\n",
    "#   Tupla con el punto p2 y la distancia, que son los más cercanos a p.\n",
    "def punto_mas_cercano(p, puntos):\n",
    "    min_distancia = infinito\n",
    "    min_punto = None\n",
    "    for punto in puntos:\n",
    "        if p is punto:\n",
    "            continue\n",
    "        d = distancia(p, punto)\n",
    "        if d < min_distancia:\n",
    "            min_distancia = d\n",
    "            min_punto = punto\n",
    "    return (min_punto, min_distancia)\n",
    "\n",
    "# Dado un conjunto de puntos encasillarlos en una malla dado un intervalo\n",
    "#   puntos: Lista de puntos\n",
    "#   intervalo: Intervalo entre los puntos\n",
    "def puntos_a_malla(puntos, intervalo):\n",
    "    malla = {}\n",
    "    for p in puntos:\n",
    "        # Obten las coordenadas en la malla\n",
    "        c = tuple(int(x // intervalo) for x in p)\n",
    "        # Si es el primer punto, crea la casilla en la malla\n",
    "        if c not in malla:\n",
    "            malla[c] = [p]\n",
    "            continue\n",
    "        # Sino, añade el punto a la lista de la malla\n",
    "        malla[c].append(p)\n",
    "    return malla\n",
    "\n",
    "# Generador que devulve las coordenadas de los vecinos\n",
    "#   coor: Coordenadas del centro\n",
    "# Nota: El generador es bastante complicada para funcionar de forma\n",
    "#       n-dimensional encontrando todos los vecinos\n",
    "def vecinos(coor):\n",
    "    # Inicializa sin puntos encontrados y las coordenadas de la actual -2 en\n",
    "    # todas las dimensiones\n",
    "    result=[]    \n",
    "    num = 0\n",
    "    c=[x-1 for x in coor]\n",
    "    # Recorre todas las casillas\n",
    "    while True:\n",
    "        # Acumula los vecinos en las coordenadas actuales (si ya ha encontrado\n",
    "        # más de 1 para)\n",
    "        yield tuple(c)\n",
    "        # Pasa a la siguiente casilla\n",
    "        i = 0\n",
    "        while True:\n",
    "            # Si no hay más casillas, no hemos encontrado vecinos\n",
    "            # (comprobamos que al menos hemos encontrado 1)\n",
    "            if i == len(c):\n",
    "                return\n",
    "            # Pasa a la siguiente casilla, o a la siguiente dimension\n",
    "            c[i] += 1\n",
    "            if c[i] <= coor[i] + 1:\n",
    "                break\n",
    "            c[i] = coor[i] - 1\n",
    "            i += 1\n",
    "            \n",
    "# Consigue si hay vecinos en el entorno de una coordenada dada\n",
    "#   malla: Malla de puntos\n",
    "#   coor:  Coordenadas enteras dentro de la malla\n",
    "# devuelve: True si hay vecinos, False si no hay vecinos\n",
    "def vecinos_any(malla, coor):\n",
    "    num = 0\n",
    "    for v in vecinos(coor):\n",
    "        if v in malla:\n",
    "            num += len(malla[v])\n",
    "            if num > 1:\n",
    "                return True\n",
    "    assert(num==1)\n",
    "    return False\n",
    "\n",
    "# Consigue todos los vecinos de Moore a un punto dado\n",
    "#   malla: Malla de puntos\n",
    "#   coor:  Coordenadas enteras dentro de la malla\n",
    "# devuelve: la lista de vecinos\n",
    "def vecinos_lista(malla, coor):\n",
    "    result = []\n",
    "    for v in vecinos(coor):\n",
    "        if v in malla:\n",
    "            result += malla[v]\n",
    "    return result\n",
    "    \n",
    "# Consigue la distancia mínima usando el algoritmo de Khuller and Matias 1995\n",
    "#   puntos: Lista de puntos, cada punto siendo una tupla de la dimensión deseada\n",
    "# devuelve: (p1, p2)\n",
    "#   tupla con los puntos \n",
    "def puntos_cercanos(puntos):\n",
    "    # El algoritmos se plantea recursivo, eliminando puntos y repitiendo\n",
    "    # con el resultado, pero con un bucle lo convertimos en iterativo\n",
    "    s = puntos\n",
    "    while True:\n",
    "        # Paso 1: Elige un punto al azar y compunta la mínima distancia a todo\n",
    "        #         el conjunto\n",
    "        randindex = random.randint(0,len(s)-1)\n",
    "        p1 = s[randindex]\n",
    "        (p2, d) = punto_mas_cercano(p1, s)\n",
    "        # Si la distancia ya es nula, entonces eso no se puede mejorar\n",
    "        if math.isclose(d, 0):\n",
    "            return (p1, p2)\n",
    "        # Paso 2: Realizamos un mallado y elimina los que no tienen vecinos\n",
    "        intervalo = d/(2*math.sqrt(len(p1)))\n",
    "        malla = puntos_a_malla(s, intervalo)\n",
    "        filtrado = []\n",
    "        for (coor, p) in malla.items():\n",
    "            if vecinos_any(malla, coor):\n",
    "                filtrado += p\n",
    "        # Paso 3: Condición de bucle y parada\n",
    "        if len(filtrado) == 0:\n",
    "            break\n",
    "        s = filtrado\n",
    "    # Paso 4: \n",
    "    intervalo = d\n",
    "    malla = puntos_a_malla(puntos, intervalo)\n",
    "    for (coor, p) in malla.items():\n",
    "        if vecinos_any(malla, coor):\n",
    "            v = vecinos_lista(malla, coor)\n",
    "            for punto in p:\n",
    "                (vp, vd) = punto_mas_cercano(punto, v)\n",
    "                if vd < d:\n",
    "                    p1 = punto\n",
    "                    p2 = vp\n",
    "                    d = vd\n",
    "    # Devuelve el resultado\n",
    "    return (p1, p2)"
   ]
  },
  {
   "attachments": {},
   "cell_type": "markdown",
   "metadata": {},
   "source": [
    "### Coprobación del correcto funcionamiento del algoritmo\n",
    "\n",
    "Comprobamos con 100 ejemplos de un número aleatorio de puntos (entre 2 y 500), de un número aleatorio de dimensiones (entre 1 y 6) que la distancia por fuerza bruta y la distancia por el algoritmo Khuler-and-Matias dan el mismo resultado."
   ]
  },
  {
   "cell_type": "code",
   "execution_count": 12,
   "metadata": {},
   "outputs": [],
   "source": [
    "for i in range(100):\n",
    "    puntos=puntos_aleatorios(random.randint(2,500),random.randint(1,6))\n",
    "    cercanos=puntos_cercanos_fuerza_bruta(puntos)\n",
    "    cercanos2=puntos_cercanos(puntos)\n",
    "    d=distancia(cercanos[0], cercanos[1])\n",
    "    d2=distancia(cercanos2[0], cercanos2[1])\n",
    "    assert(math.isclose(d,d2))\n"
   ]
  },
  {
   "attachments": {},
   "cell_type": "markdown",
   "metadata": {},
   "source": [
    "### Comprobación del rendimiento del algoritmo"
   ]
  },
  {
   "attachments": {},
   "cell_type": "markdown",
   "metadata": {},
   "source": [
    "Vamos a hacer una gráfica del tiempo que tarda en ejecutarse el algoritmo en funciónd el número de nodos tanto para el caso de fuerza bruta como para el caso del algoritmo Khuler-and-Matias. Así comprobaremos que uno es $O(n^2)$ y el otro es $O(n)$."
   ]
  },
  {
   "cell_type": "code",
   "execution_count": 13,
   "metadata": {},
   "outputs": [
    {
     "name": "stdout",
     "output_type": "stream",
     "text": [
      "Dimensiones: 1D\n",
      "  puntos: 10 tiempo: 1.3742180317921749e-05 s (1.3742180317921748e-07*n^2 s)\n",
      "  puntos: 20 tiempo: 4.3170123512483764e-05 s (1.0792530878120941e-07*n^2 s)\n",
      "  puntos: 50 tiempo: 0.00023920853414981648 s (9.568341365992659e-08*n^2 s)\n",
      "  puntos: 100 tiempo: 0.0009748836180237545 s (9.748836180237546e-08*n^2 s)\n",
      "  puntos: 200 tiempo: 0.003873265499714762 s (9.683163749286905e-08*n^2 s)\n",
      "  puntos: 500 tiempo: 0.024354862202017102 s (9.74194488080684e-08*n^2 s)\n",
      "  puntos: 1000 tiempo: 0.10019551750447135 s (1.0019551750447136e-07*n^2 s)\n",
      "  puntos: 2000 tiempo: 0.43747178800113035 s (1.0936794700028259e-07*n^2 s)\n",
      "  puntos: 3000 tiempo: 0.9272270420042332 s (1.0302522688935925e-07*n^2 s)\n",
      "  puntos: 4000 tiempo: 1.5970952630013926 s (9.981845393758703e-08*n^2 s)\n",
      "  puntos: 5000 tiempo: 2.5215500670019537 s (1.0086200268007815e-07*n^2 s)\n",
      "Dimensiones: 2D\n",
      "  puntos: 10 tiempo: 1.2751900997479445e-05 s (1.2751900997479445e-07*n^2 s)\n",
      "  puntos: 20 tiempo: 5.474444819647685e-05 s (1.368611204911921e-07*n^2 s)\n",
      "  puntos: 50 tiempo: 0.0003525069659212377 s (1.4100278636849507e-07*n^2 s)\n",
      "  puntos: 100 tiempo: 0.0013291640000798824 s (1.3291640000798823e-07*n^2 s)\n",
      "  puntos: 200 tiempo: 0.00508068846684182 s (1.270172116710455e-07*n^2 s)\n",
      "  puntos: 500 tiempo: 0.03283788199914852 s (1.3135152799659409e-07*n^2 s)\n",
      "  puntos: 1000 tiempo: 0.1350214420002885 s (1.350214420002885e-07*n^2 s)\n",
      "  puntos: 2000 tiempo: 0.5473465192961158 s (1.3683662982402894e-07*n^2 s)\n",
      "  puntos: 3000 tiempo: 1.2885696059965994 s (1.4317440066628883e-07*n^2 s)\n",
      "  puntos: 4000 tiempo: 2.155234381003538 s (1.3470214881272114e-07*n^2 s)\n",
      "  puntos: 5000 tiempo: 3.280622578007751 s (1.3122490312031005e-07*n^2 s)\n",
      "Dimensiones: 3D\n",
      "  puntos: 10 tiempo: 1.6015596107403458e-05 s (1.6015596107403458e-07*n^2 s)\n",
      "  puntos: 20 tiempo: 6.45899776853083e-05 s (1.6147494421327074e-07*n^2 s)\n",
      "  puntos: 50 tiempo: 0.0003779358341622666 s (1.5117433366490664e-07*n^2 s)\n",
      "  puntos: 100 tiempo: 0.00174540056376083 s (1.74540056376083e-07*n^2 s)\n",
      "  puntos: 200 tiempo: 0.00627692516670019 s (1.5692312916750476e-07*n^2 s)\n",
      "  puntos: 500 tiempo: 0.040256899596715814 s (1.6102759838686327e-07*n^2 s)\n",
      "  puntos: 1000 tiempo: 0.1706465021998156 s (1.7064650219981557e-07*n^2 s)\n",
      "  puntos: 2000 tiempo: 0.7088922315015225 s (1.7722305787538062e-07*n^2 s)\n",
      "  puntos: 3000 tiempo: 1.4922418679925613 s (1.6580465199917348e-07*n^2 s)\n",
      "  puntos: 4000 tiempo: 2.77882503400906 s (1.7367656462556624e-07*n^2 s)\n",
      "  puntos: 5000 tiempo: 4.2640922230057186 s (1.7056368892022874e-07*n^2 s)\n",
      "Dimensiones: 4D\n",
      "  puntos: 10 tiempo: 1.8242423473631723e-05 s (1.8242423473631724e-07*n^2 s)\n",
      "  puntos: 20 tiempo: 8.437314939933765e-05 s (2.1093287349834415e-07*n^2 s)\n",
      "  puntos: 50 tiempo: 0.0004931578341312139 s (1.9726313365248556e-07*n^2 s)\n",
      "  puntos: 100 tiempo: 0.001998675554932561 s (1.9986755549325608e-07*n^2 s)\n",
      "  puntos: 200 tiempo: 0.007475433666453076 s (1.868858416613269e-07*n^2 s)\n",
      "  puntos: 500 tiempo: 0.049239727995882276 s (1.969589119835291e-07*n^2 s)\n",
      "  puntos: 1000 tiempo: 0.19297406030091224 s (1.9297406030091224e-07*n^2 s)\n",
      "  puntos: 2000 tiempo: 0.8107297838985688 s (2.0268244597464218e-07*n^2 s)\n",
      "  puntos: 3000 tiempo: 2.022872967994772 s (2.247636631105302e-07*n^2 s)\n",
      "  puntos: 4000 tiempo: 3.27854313600983 s (2.0490894600061438e-07*n^2 s)\n",
      "  puntos: 5000 tiempo: 4.959123163993354 s (1.9836492655973415e-07*n^2 s)\n"
     ]
    },
    {
     "data": {
      "image/png": "[encoded data removed]",
      "text/plain": [
       "<Figure size 432x288 with 1 Axes>"
      ]
     },
     "metadata": {
      "needs_background": "light"
     },
     "output_type": "display_data"
    }
   ],
   "source": [
    "import timeit\n",
    "import matplotlib.pyplot as plt\n",
    "x = [10, 20, 50, 100, 200, 500, 1000, 2000, 3000, 4000, 5000]\n",
    "y = {}\n",
    "for dim in [1, 2,3,4]:\n",
    "    print(f\"Dimensiones: {dim}D\")\n",
    "    ydim = []\n",
    "    for num in x:\n",
    "        sets = 10 if num < 3000 else 1\n",
    "        reps = 1000*1000//(sets*num*num)+1\n",
    "        t_avg = 0\n",
    "        for r in range(sets):\n",
    "            puntos=puntos_aleatorios(num,dim)\n",
    "            t = timeit.timeit(lambda:puntos_cercanos_fuerza_bruta(puntos),\\\n",
    "                              number=reps)\n",
    "            t_avg += t\n",
    "        t_avg /= sets*reps\n",
    "        ydim.append(t_avg)\n",
    "        k = t_avg / (num*num)\n",
    "        print(f\"  puntos: {num} tiempo: {t_avg} s ({k}*n^2 s)\")\n",
    "    y[dim] = ydim\n",
    "plt.plot(x,y[1],x,y[2],x,y[3],x,y[4])\n",
    "plt.xlabel(\"n\")\n",
    "plt.ylabel(\"time (s)\")\n",
    "plt.title('Algoritmo de fuerza bruta')\n",
    "plt.legend([\"1D\", \"2D\", \"3D\", \"4D\"])\n",
    "plt.show()"
   ]
  },
  {
   "attachments": {},
   "cell_type": "markdown",
   "metadata": {},
   "source": [
    "Se comprueba con los valores númericos y con las gráficas su rendimiento $O(n)$."
   ]
  },
  {
   "cell_type": "code",
   "execution_count": 14,
   "metadata": {},
   "outputs": [
    {
     "name": "stdout",
     "output_type": "stream",
     "text": [
      "Dimensiones: 1D\n",
      "  puntos: 500 tiempo: 0.002376148200710304 s (4.752296401420608e-06*n s)\n",
      "  puntos: 1000 tiempo: 0.004117845805012621 s (4.117845805012621e-06*n s)\n",
      "  puntos: 2000 tiempo: 0.002908681600820273 s (1.4543408004101365e-06*n s)\n",
      "  puntos: 5000 tiempo: 0.006075775998760946 s (1.2151551997521892e-06*n s)\n",
      "  puntos: 10000 tiempo: 0.006399782799417153 s (6.399782799417152e-07*n s)\n",
      "  puntos: 20000 tiempo: 0.010885689000133425 s (5.442844500066713e-07*n s)\n",
      "  puntos: 50000 tiempo: 0.01325691319652833 s (2.651382639305666e-07*n s)\n",
      "  puntos: 100000 tiempo: 0.02517946320294868 s (2.5179463202948683e-07*n s)\n",
      "Dimensiones: 2D\n",
      "  puntos: 500 tiempo: 0.003592781798215583 s (7.185563596431166e-06*n s)\n",
      "  puntos: 1000 tiempo: 0.007404338603373617 s (7.404338603373617e-06*n s)\n",
      "  puntos: 2000 tiempo: 0.014772387998527847 s (7.386193999263923e-06*n s)\n",
      "  puntos: 5000 tiempo: 0.04049753399740439 s (8.099506799480877e-06*n s)\n",
      "  puntos: 10000 tiempo: 0.08951660280290526 s (8.951660280290526e-06*n s)\n",
      "  puntos: 20000 tiempo: 0.11716281439876183 s (5.858140719938091e-06*n s)\n",
      "  puntos: 50000 tiempo: 0.33157727639772927 s (6.631545527954585e-06*n s)\n",
      "  puntos: 100000 tiempo: 0.520114680606639 s (5.20114680606639e-06*n s)\n",
      "Dimensiones: 3D\n",
      "  puntos: 500 tiempo: 0.008171897000283933 s (1.6343794000567866e-05*n s)\n",
      "  puntos: 1000 tiempo: 0.01545975540066138 s (1.545975540066138e-05*n s)\n",
      "  puntos: 2000 tiempo: 0.03425147540110629 s (1.7125737700553147e-05*n s)\n",
      "  puntos: 5000 tiempo: 0.08165317500534001 s (1.6330635001068002e-05*n s)\n",
      "  puntos: 10000 tiempo: 0.16357947239885107 s (1.6357947239885108e-05*n s)\n",
      "  puntos: 20000 tiempo: 0.3352143907977734 s (1.676071953988867e-05*n s)\n",
      "  puntos: 50000 tiempo: 0.8682812097977148 s (1.7365624195954297e-05*n s)\n",
      "  puntos: 100000 tiempo: 1.984787022206001 s (1.984787022206001e-05*n s)\n",
      "Dimensiones: 4D\n",
      "  puntos: 500 tiempo: 0.022444282594369723 s (4.4888565188739446e-05*n s)\n",
      "  puntos: 1000 tiempo: 0.04138076979725156 s (4.1380769797251564e-05*n s)\n",
      "  puntos: 2000 tiempo: 0.08920192899822724 s (4.460096449911362e-05*n s)\n",
      "  puntos: 5000 tiempo: 0.23037109420110938 s (4.607421884022188e-05*n s)\n",
      "  puntos: 10000 tiempo: 0.46350634660047946 s (4.635063466004795e-05*n s)\n",
      "  puntos: 20000 tiempo: 0.8596214402001351 s (4.298107201000676e-05*n s)\n",
      "  puntos: 50000 tiempo: 2.3322745938028673 s (4.6645491876057346e-05*n s)\n",
      "  puntos: 100000 tiempo: 4.869432834599865 s (4.8694328345998657e-05*n s)\n"
     ]
    },
    {
     "data": {
      "image/png": "[encoded data removed]",
      "text/plain": [
       "<Figure size 432x288 with 1 Axes>"
      ]
     },
     "metadata": {
      "needs_background": "light"
     },
     "output_type": "display_data"
    }
   ],
   "source": [
    "import timeit\n",
    "import matplotlib.pyplot as plt\n",
    "x = [500, 1000, 2000, 5000, 10000, 20000, 50000, 100000]\n",
    "y = {}\n",
    "for dim in [1,2,3,4]:\n",
    "    print(f\"Dimensiones: {dim}D\")\n",
    "    ydim = []\n",
    "    for num in x:\n",
    "        sets = 10 if num < 100 else 5\n",
    "        reps = 1000*1000//(sets*num*num)+1\n",
    "        t_avg = 0\n",
    "        for r in range(sets):\n",
    "            puntos=puntos_aleatorios(num,dim)\n",
    "            t = timeit.timeit(lambda:puntos_cercanos(puntos), number=reps)\n",
    "            t_avg += t\n",
    "        t_avg /= sets*reps\n",
    "        ydim.append(t_avg)\n",
    "        k = t_avg / num\n",
    "        print(f\"  puntos: {num} tiempo: {t_avg} s ({k}*n s)\")\n",
    "    y[dim] = ydim\n",
    "plt.plot(x,y[1],x,y[2],x,y[3],x,y[4])\n",
    "plt.xlabel(\"n\")\n",
    "plt.ylabel(\"time (s)\")\n",
    "plt.title('Algoritmo Khuller and Matias 1995')\n",
    "plt.legend([\"1D\", \"2D\", \"3D\", \"4D\"])\n",
    "plt.show()"
   ]
  },
  {
   "attachments": {},
   "cell_type": "markdown",
   "metadata": {},
   "source": [
    "Se comprueba con los valores númericos y con las gráficas su rendimiento $O(n)$. Nótese no obstante que el rendimiento sí es lineal con respecto al número de puntos, pero con respecto a las dimensiones es exponencial. Esto se debe en la búsqueda de los vecinos de Moore, que hay que tener en cuenta que son $3^k$ vecinos, siendo $k$ el número de dimensiones. No obstante, el algoritmo nunca estuvo diseñado para $k$ siendo muy grande, sino para $n$ siendo muy grande. Aún así, el rendimeinto es muy superior que el rendimiento por fuerta bruta excepto para $n$ extremadamente pequeño o $k$ (dimensión) muy grande."
   ]
  },
  {
   "attachments": {},
   "cell_type": "markdown",
   "metadata": {},
   "source": []
  }
 ],
 "metadata": {
  "kernelspec": {
   "display_name": "Python 3",
   "language": "python",
   "name": "python3"
  },
  "language_info": {
   "codemirror_mode": {
    "name": "ipython",
    "version": 3
   },
   "file_extension": ".py",
   "mimetype": "text/x-python",
   "name": "python",
   "nbconvert_exporter": "python",
   "pygments_lexer": "ipython3",
   "version": "3.10.6"
  },
  "orig_nbformat": 4
 },
 "nbformat": 4,
 "nbformat_minor": 2
}
