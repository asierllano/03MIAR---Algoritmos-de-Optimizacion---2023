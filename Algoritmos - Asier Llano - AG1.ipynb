{
 "cells": [
  {
   "attachments": {},
   "cell_type": "markdown",
   "metadata": {},
   "source": [
    "# Actividad Guiada 1\n",
    "# Asier Llano\n",
    "Link repostorio github:\n",
    "[https://github.com/asierllano/03MIAR---Algoritmos-de-Optimizacion---2023]\n",
    "\n",
    "## 1. Torres de Hanoi\n",
    "\n",
    "Esta aplicación consiste en hacer una aplicación que solucione el problema de las torres de Hanoi.\n",
    "He hecho la solución muy similar a la presentada en la clase, con las siguientes mejoras menores:\n",
    " * En vez de limitar para N=1 he limitado para N=0 para no tener que realizar el movimiento para N=1 también\n",
    " * No he pasado el pivote porque hay que tener en cuenta que origen + destino + pivote = 6 siempre.\n",
    " * En vez de imprimir texto, he creado un generador en python, para que el resultado sea iterable y así\n",
    "   se puede utilizar los movimientos para cualquier aplicación, no solamente escribir el texto.\n",
    " * Incluidos parámetros por defecto, porque tradicionalmente el problema de las torres de Hanoi\n",
    "   empieza en la primera columna y termina en la última."
   ]
  },
  {
   "cell_type": "code",
   "execution_count": 1,
   "metadata": {},
   "outputs": [],
   "source": [
    "# Función que devuelve un iterador con los movimientos\n",
    "# que soluciona las torres de Hanoi\n",
    "def torres_hanoi(N, origen=1, destino=3):\n",
    "    if N > 0:\n",
    "        pivote = 6 - origen - destino\n",
    "        yield from torres_hanoi(N-1, origen, pivote)\n",
    "        yield (origen, destino)\n",
    "        yield from torres_hanoi(N-1, pivote, destino)"
   ]
  },
  {
   "attachments": {},
   "cell_type": "markdown",
   "metadata": {},
   "source": [
    "Realizamos dos aplicaciones diferentes, una que muestra los movimientos para N=4 y otra que cuenta los movimientos necesarios para diferentes valores de N"
   ]
  },
  {
   "cell_type": "code",
   "execution_count": 2,
   "metadata": {},
   "outputs": [
    {
     "name": "stdout",
     "output_type": "stream",
     "text": [
      "MOVIMIENTOS PARA N=4\n",
      "1. Muevo disco de 1 a 2\n",
      "2. Muevo disco de 1 a 3\n",
      "3. Muevo disco de 2 a 3\n",
      "4. Muevo disco de 1 a 2\n",
      "5. Muevo disco de 3 a 1\n",
      "6. Muevo disco de 3 a 2\n",
      "7. Muevo disco de 1 a 2\n",
      "8. Muevo disco de 1 a 3\n",
      "9. Muevo disco de 2 a 3\n",
      "10. Muevo disco de 2 a 1\n",
      "11. Muevo disco de 3 a 1\n",
      "12. Muevo disco de 2 a 3\n",
      "13. Muevo disco de 1 a 2\n",
      "14. Muevo disco de 1 a 3\n",
      "15. Muevo disco de 2 a 3\n",
      "\n",
      "NUMERO DE MOVIMIENTOS\n",
      "N=1 requiere 1 movimientos\n",
      "N=2 requiere 3 movimientos\n",
      "N=3 requiere 7 movimientos\n",
      "N=4 requiere 15 movimientos\n",
      "N=5 requiere 31 movimientos\n",
      "N=6 requiere 63 movimientos\n",
      "N=7 requiere 127 movimientos\n",
      "N=8 requiere 255 movimientos\n",
      "N=9 requiere 511 movimientos\n",
      "N=10 requiere 1023 movimientos\n",
      "N=11 requiere 2047 movimientos\n",
      "N=12 requiere 4095 movimientos\n",
      "N=13 requiere 8191 movimientos\n",
      "N=14 requiere 16383 movimientos\n",
      "N=15 requiere 32767 movimientos\n",
      "N=16 requiere 65535 movimientos\n",
      "N=17 requiere 131071 movimientos\n",
      "N=18 requiere 262143 movimientos\n",
      "N=19 requiere 524287 movimientos\n",
      "N=20 requiere 1048575 movimientos\n"
     ]
    }
   ],
   "source": [
    "# Pinta los movimientos para N=4\n",
    "print(\"MOVIMIENTOS PARA N=4\")\n",
    "movimiento = 1\n",
    "for (origen, destino) in torres_hanoi(4):\n",
    "    print(f\"{movimiento}. Muevo disco de {origen} a {destino}\")\n",
    "    movimiento+=1\n",
    "    \n",
    "# Comprueba el número de movimientos para diferentes valores de N\n",
    "print()\n",
    "print(\"NUMERO DE MOVIMIENTOS\")\n",
    "for N in range(1,21):\n",
    "    movimientos = len(list(torres_hanoi(N)))\n",
    "    print(f\"N={N} requiere {movimientos} movimientos\")\n"
   ]
  },
  {
   "attachments": {},
   "cell_type": "markdown",
   "metadata": {},
   "source": [
    "# 2. Devolución de cambio\n",
    "\n",
    "Esta aplicación realiza la devolución de cambio en base a un sistema monetario. Es un código muy similar al realizado en clase con las siguientes mejoras:\n",
    "* Permite sistemas monetarios no ordenados\n",
    "* Utiliza división de enteros, en vez de división en coma flotante y después extraer la parte entera.\n",
    "* En vez de pintar el resultado es un generador iterable con las monedas y su cantidad para poder utilizarlo en cualquier tipo de aplicaciones.\n",
    "* En vez de sumar la cantidad hasta llegar al total, lo va restando del total, lo que simplifica el cálculo.\n",
    "* Proporciona una excepción si no se ha podido devolver el cambio"
   ]
  },
  {
   "cell_type": "code",
   "execution_count": 3,
   "metadata": {},
   "outputs": [],
   "source": [
    "# Función que devuelve el cambio de moneda basado en un sistema monetario\n",
    "def cambio_moneda(total, sistema):\n",
    "    for moneda in sorted(sistema, reverse = True):\n",
    "        cantidad = total // moneda\n",
    "        if cantidad != 0:\n",
    "            yield (moneda, cantidad)\n",
    "        total -= cantidad * moneda\n",
    "    if total != 0:\n",
    "        raise ValueError(\"No es posible devolver este cambio\")"
   ]
  },
  {
   "cell_type": "code",
   "execution_count": 4,
   "metadata": {},
   "outputs": [
    {
     "name": "stdout",
     "output_type": "stream",
     "text": [
      "El cambio de 54 es:\n",
      " * 2 monedas de 25\n",
      " * 4 monedas de 1\n"
     ]
    }
   ],
   "source": [
    "# Aplicación que devuelve el cambio de 54\n",
    "print(\"El cambio de 54 es:\")\n",
    "for (moneda, cantidad) in cambio_moneda(54, [25, 1, 10, 5]):\n",
    "    print(f\" * {cantidad} monedas de {moneda}\")"
   ]
  },
  {
   "attachments": {},
   "cell_type": "markdown",
   "metadata": {},
   "source": [
    "## 3. Encontrar los dos puntos más cercanos\n",
    "\n",
    "Dado un conjunto de puntos devolver los puntos más cercanos en 1D, 2D, 3D...\n",
    "Empezar utilizando fuerza bruta y optimizarlo de forma recursiva\n",
    "\n",
    "### 3.1 Implementación por fuerza bruta\n",
    "\n",
    "La implementación por fuerza bruta requiere probar todas las parejas de números diferentes.\n",
    "\n",
    "Hay que tener en cuenta que para $n$ puntos, hay un total de $\\frac{n·(n-1)}{2}$ parejas. Por eso el algoritmo es $O(n^2)$"
   ]
  },
  {
   "cell_type": "code",
   "execution_count": 5,
   "metadata": {},
   "outputs": [],
   "source": [
    "import random\n",
    "import math\n",
    "\n",
    "# Calcula la distancia entre puntos\n",
    "def distancia_sq(a,b):\n",
    "    result = 0\n",
    "    for i in range(len(a)):\n",
    "        d = a[i] - b[i]\n",
    "        result += d*d\n",
    "    return result\n",
    "\n",
    "# Genero una lista de puntos aleatoria\n",
    "def puntos_aleatorios(number, dimensions):\n",
    "    return [tuple(random.randrange(1,10000) for d in range(dimensions)) for i in range(number)]\n",
    "\n",
    "#  Dado un conjunto de puntos calcula los más cercanos por fuerza bruta\n",
    "def puntos_cercanos_fuerza_bruta(puntos):\n",
    "    if len(puntos) < 2:\n",
    "        raise ValueError(\"No se puede calcular la distancia entre puntos si no hay 2\")\n",
    "    d_mejor = distancia_sq(puntos[0], puntos[1])\n",
    "    resultado = (puntos[0], puntos[1])\n",
    "    for i in range(2,len(puntos)):\n",
    "        for j in range(i):\n",
    "            d = distancia_sq(puntos[i], puntos[j])\n",
    "            if d_mejor > d:\n",
    "                d_mejor = d\n",
    "                resultado = (puntos[i], puntos[j])\n",
    "    return resultado"
   ]
  },
  {
   "attachments": {},
   "cell_type": "markdown",
   "metadata": {},
   "source": [
    "Probamos el resultado para 3D con 5 elementos:"
   ]
  },
  {
   "cell_type": "code",
   "execution_count": 6,
   "metadata": {},
   "outputs": [
    {
     "name": "stdout",
     "output_type": "stream",
     "text": [
      "Puntos más cercanos: ((9480, 4820), (8816, 3404)) en:\n",
      " * (3731, 4633)\n",
      " * (1632, 1538)\n",
      " * (5390, 4708)\n",
      " * (8816, 3404)\n",
      " * (9480, 4820)\n"
     ]
    }
   ],
   "source": [
    "puntos=puntos_aleatorios(5,2)\n",
    "cercanos=puntos_cercanos_fuerza_bruta(puntos)\n",
    "print(f\"Puntos más cercanos: {cercanos} en:\")\n",
    "for p in puntos:\n",
    "    print(f\" * {p}\")"
   ]
  },
  {
   "cell_type": "code",
   "execution_count": 7,
   "metadata": {},
   "outputs": [
    {
     "name": "stdout",
     "output_type": "stream",
     "text": [
      "374 ms ± 35.5 ms per loop (mean ± std. dev. of 7 runs, 1 loop each)\n"
     ]
    }
   ],
   "source": [
    "%%timeit\n",
    "puntos=puntos_aleatorios(1000,5)\n",
    "cercanos=puntos_cercanos_fuerza_bruta(puntos)"
   ]
  },
  {
   "attachments": {},
   "cell_type": "markdown",
   "metadata": {},
   "source": [
    "## 3.2 Implementación recursiva\n",
    "\n",
    "Después de bucear en la bibliografía el mejor algoritmo recursivo que he encontrado (y entendido) es el publicado por Khuller and Matias en 1995: https://www.cs.umd.edu/~samir/grant/cp.pdf\n",
    "\n",
    "Lo he encontrado por la entrada de la Wikipedia en inglés de este problema:\n",
    "https://en.wikipedia.org/wiki/Closest_pair_of_points_problem#Linear-time_randomized_algorithms\n",
    "\n",
    "Este algoritmo está muy bien explicado en el artículo y muy bien resumido en la entrada de la Wikipedia. Además, tiene la particularidad de funcionar en cualquier número de dimensiones.\n",
    "\n",
    "Los pasos son para encontrar la distancia mínima entre dos puntos de un conjunto $S$:\n",
    "\n",
    "0. Inicializar $S_1$ para que sea $S$ e $i=1$\n",
    "1. Elegir un punto $p_i$ al azar de la colección $S_i$, computar la distancia entre $p_i$ y todo el resto de los puntos de $S_i$. Llamaremos $d_i$ a esa distancia mínima.\n",
    "2. Construir una malla de paso $\\frac{d}{2\\sqrt{k}}$ (esta es la generalización para el caso N-dimensional donde $k$ es el número de dimensiones). Crear un $S_{i+1}=S_i-X_i$ donde $X_i$ es el conjunto de puntos que no tienen vecinos en una vecindad de Moore.\n",
    "3. Si $S_{i+1}=\\emptyset$ entonces $i=i+1$ e ir al paso 1, sino entonces continuar al paso 4.\n",
    "4. Construir un mallado de $S$ (el original), de paso $d_i$. Para cada punto calcular la distancia con sus vecinos y elegir el mínimo.\n",
    "\n",
    "La complejidad del algoritmo es $O(n)$ por el hecho de que estadísticamente en el paso 4 se eliminan la mayoría de puntos y la colección decrece geométricamente, por lo que el tiempo que domina es el de la primera iteración. \n",
    "\n",
    "Se recomienda ver el artículo para más detalle."
   ]
  },
  {
   "cell_type": "code",
   "execution_count": 107,
   "metadata": {},
   "outputs": [],
   "source": [
    "# Calcula la distancia entre puntos\n",
    "#   a: Primer punto para calcular la distancia\n",
    "#   b: Segundo punto para calcular la distancia\n",
    "def distancia(a,b):\n",
    "    result = 0\n",
    "    for i in range(len(a)):\n",
    "        d = a[i] - b[i]\n",
    "        result += d*d\n",
    "    return math.sqrt(result)\n",
    "\n",
    "# Infinitio utilizado como distancia máxima\n",
    "infinito = float(\"inf\")    \n",
    "\n",
    "# Dada una colección de puntos devuelve el punto más cercano a uno dado\n",
    "#   p:        Punto para calcular su más cercano\n",
    "#   puntos:   Lista de pntos para obtener el mas cercano\n",
    "# devuelve: (p2, distancia)\n",
    "#   Tupla con el punto p2 y la distancia, que son los más cercanos a p.\n",
    "def punto_mas_cercano(p, puntos):\n",
    "    min_distancia = infinito\n",
    "    min_punto = None\n",
    "    for punto in puntos:\n",
    "        if p is punto:\n",
    "            continue\n",
    "        d = distancia(p, punto)\n",
    "        if d < min_distancia:\n",
    "            min_distancia = d\n",
    "            min_punto = punto\n",
    "    return (min_punto, min_distancia)\n",
    "\n",
    "# Dado un conjunto de puntos encasillarlos en una malla dado un intervalo\n",
    "#   puntos: Lista de puntos\n",
    "#   intervalo: Intervalo entre los puntos\n",
    "def puntos_a_malla(puntos, intervalo):\n",
    "    malla = {}\n",
    "    for p in puntos:\n",
    "        # Obten las coordenadas en la malla\n",
    "        c = tuple(int(x // intervalo) for x in p)\n",
    "        # Si es el primer punto, crea la casilla en la malla\n",
    "        if c not in malla:\n",
    "            malla[c] = [p]\n",
    "            continue\n",
    "        # Sino, añade el punto a la lista de la malla\n",
    "        malla[c].append(p)\n",
    "    return malla\n",
    "\n",
    "# Generador que devulve las coordenadas de los vecinos\n",
    "#   coor: Coordenadas del centro\n",
    "# Nota: El generador es bastante complicada para funcionar de forma n-dimensional\n",
    "#       encontrando todos los vecinos\n",
    "def vecinos(coor):\n",
    "    # Inicializa sin puntos encontrados y las coordenadas de la actual -2 en todas las dimensiones\n",
    "    result=[]    \n",
    "    num = 0\n",
    "    c=[x-1 for x in coor]\n",
    "    # Recorre todas las casillas\n",
    "    while True:\n",
    "        # Acumula los vecinos en las coordenadas actuales (si ya ha encontrado más de 1 para)\n",
    "        yield tuple(c)\n",
    "        # Pasa a la siguiente casilla\n",
    "        i = 0\n",
    "        while True:\n",
    "            # Si no hay más casillas, no hemos encontrado vecinos\n",
    "            # (comprobamos que al menos hemos encontrado 1)\n",
    "            if i == len(c):\n",
    "                return\n",
    "            # Pasa a la siguiente casilla, o a la siguiente dimension\n",
    "            c[i] += 1\n",
    "            if c[i] <= coor[i] + 1:\n",
    "                break\n",
    "            c[i] = coor[i] - 1\n",
    "            i += 1\n",
    "            \n",
    "# Consigue si hay vecinos en el entorno de una coordenada dada\n",
    "#   malla: Malla de puntos\n",
    "#   coor:  Coordenadas enteras dentro de la malla\n",
    "# devuelve: True si hay vecinos, False si no hay vecinos\n",
    "def vecinos_any(malla, coor):\n",
    "    num = 0\n",
    "    for v in vecinos(coor):\n",
    "        if v in malla:\n",
    "            num += len(malla[v])\n",
    "            if num > 1:\n",
    "                return True\n",
    "    assert(num==1)\n",
    "    return False\n",
    "\n",
    "# Consigue todos los vecinos de Moore a un punto dado\n",
    "#   malla: Malla de puntos\n",
    "#   coor:  Coordenadas enteras dentro de la malla\n",
    "# devuelve: la lista de vecinos\n",
    "def vecinos_lista(malla, coor):\n",
    "    result = []\n",
    "    for v in vecinos(coor):\n",
    "        if v in malla:\n",
    "            result += malla[v]\n",
    "    return result\n",
    "    \n",
    "# Consigue la distancia mínima usando el algoritmo de Khuller and Matias 1995\n",
    "#   puntos: Lista de puntos, cada punto siendo una tupla de la dimensión deseada\n",
    "# devuelve: (p1, p2)\n",
    "#   tupla con los puntos \n",
    "def puntos_cercanos(puntos):\n",
    "    # El algoritmos se plantea recursivo, eliminando puntos y repitiendo\n",
    "    # con el resultado, pero con un bucle lo convertimos en iterativo\n",
    "    s = puntos\n",
    "    while True:\n",
    "        # Paso 1: Elige un punto al azar y compunta la mínima distancia a todo el conjunto\n",
    "        randindex = random.randint(0,len(s)-1)\n",
    "        p1 = s[randindex]\n",
    "        (p2, d) = punto_mas_cercano(p1, s)\n",
    "        # Si la distancia ya es nula, entonces eso no se puede mejorar\n",
    "        if math.isclose(d, 0):\n",
    "            return (p1, p2)\n",
    "        # Paso 2: Realizamos un mallado y elimina los que no tienen vecinos\n",
    "        intervalo = d/(2*math.sqrt(len(p1)))\n",
    "        malla = puntos_a_malla(s, intervalo)\n",
    "        filtrado = []\n",
    "        for (coor, p) in malla.items():\n",
    "            if vecinos_any(malla, coor):\n",
    "                filtrado += p\n",
    "        # Paso 3: Condición de bucle y parada\n",
    "        if len(filtrado) == 0:\n",
    "            break\n",
    "        s = filtrado\n",
    "    # Paso 4: \n",
    "    intervalo = d\n",
    "    malla = puntos_a_malla(puntos, intervalo)\n",
    "    for (coor, p) in malla.items():\n",
    "        if vecinos_any(malla, coor):\n",
    "            v = vecinos_lista(malla, coor)\n",
    "            for punto in p:\n",
    "                (vp, vd) = punto_mas_cercano(punto, v)\n",
    "                if vd < d:\n",
    "                    p1 = punto\n",
    "                    p2 = vp\n",
    "                    d = vd\n",
    "    # Devuelve el resultado\n",
    "    return (p1, p2)"
   ]
  },
  {
   "attachments": {},
   "cell_type": "markdown",
   "metadata": {},
   "source": [
    "### Coprobación del correcto funcionamiento del algoritmo\n",
    "\n",
    "Comprobamos con 100 ejemplos de un número aleatorio de puntos (entre 2 y 500), de un número aleatorio de dimensiones (entre 1 y 6) que la distancia por fuerza bruta y la distancia por el algoritmo Khuler-and-Matias dan el mismo resultado."
   ]
  },
  {
   "cell_type": "code",
   "execution_count": 108,
   "metadata": {},
   "outputs": [],
   "source": [
    "for i in range(100):\n",
    "    puntos=puntos_aleatorios(random.randint(2,500),random.randint(1,6))\n",
    "    cercanos=puntos_cercanos_fuerza_bruta(puntos)\n",
    "    cercanos2=puntos_cercanos(puntos)\n",
    "    d=distancia(cercanos[0], cercanos[1])\n",
    "    d2=distancia(cercanos2[0], cercanos2[1])\n",
    "    assert(math.isclose(d,d2))\n"
   ]
  },
  {
   "attachments": {},
   "cell_type": "markdown",
   "metadata": {},
   "source": [
    "### Comprobación del rendimiento del algoritmo"
   ]
  },
  {
   "attachments": {},
   "cell_type": "markdown",
   "metadata": {},
   "source": [
    "Vamos a hacer una gráfica del tiempo que tarda en ejecutarse el algoritmo en funciónd el número de nodos tanto para el caso de fuerza bruta como para el caso del algoritmo Khuler-and-Matias. Así comprobaremos que uno es $O(n^2)$ y el otro es $O(n)$."
   ]
  },
  {
   "cell_type": "code",
   "execution_count": 173,
   "metadata": {},
   "outputs": [
    {
     "name": "stdout",
     "output_type": "stream",
     "text": [
      "Dimensiones: 1D\n",
      "  puntos: 10 tiempo: 1.2033086895317464e-05 s (1.2033086895317464e-07*n^2 s)\n",
      "  puntos: 20 tiempo: 3.7419362609604915e-05 s (9.354840652401229e-08*n^2 s)\n",
      "  puntos: 50 tiempo: 0.0002124924391576248 s (8.499697566304992e-08*n^2 s)\n",
      "  puntos: 100 tiempo: 0.0008411218189973046 s (8.411218189973045e-08*n^2 s)\n",
      "  puntos: 200 tiempo: 0.0032868766691535713 s (8.217191672883928e-08*n^2 s)\n",
      "  puntos: 500 tiempo: 0.022546890005469323 s (9.018756002187729e-08*n^2 s)\n",
      "  puntos: 1000 tiempo: 0.09252304000547155 s (9.252304000547156e-08*n^2 s)\n",
      "  puntos: 2000 tiempo: 0.3558093500090763 s (8.895233750226908e-08*n^2 s)\n",
      "  puntos: 3000 tiempo: 0.7958138000685722 s (8.842375556317468e-08*n^2 s)\n",
      "  puntos: 4000 tiempo: 1.4205510000465438 s (8.878443750290898e-08*n^2 s)\n",
      "  puntos: 5000 tiempo: 2.3313668000046164 s (9.325467200018465e-08*n^2 s)\n",
      "Dimensiones: 2D\n",
      "  puntos: 10 tiempo: 1.1052257733998242e-05 s (1.1052257733998242e-07*n^2 s)\n",
      "  puntos: 20 tiempo: 4.4107609623263914e-05 s (1.1026902405815978e-07*n^2 s)\n",
      "  puntos: 50 tiempo: 0.00028582341548782296 s (1.1432936619512919e-07*n^2 s)\n",
      "  puntos: 100 tiempo: 0.0011756763655946336 s (1.1756763655946336e-07*n^2 s)\n",
      "  puntos: 200 tiempo: 0.0052654066743950045 s (1.3163516685987513e-07*n^2 s)\n",
      "  puntos: 500 tiempo: 0.03340247997548431 s (1.3360991990193724e-07*n^2 s)\n",
      "  puntos: 1000 tiempo: 0.11219852003268897 s (1.1219852003268898e-07*n^2 s)\n",
      "  puntos: 2000 tiempo: 0.44095018998486923 s (1.1023754749621731e-07*n^2 s)\n",
      "  puntos: 3000 tiempo: 1.023396100034006 s (1.1371067778155621e-07*n^2 s)\n",
      "  puntos: 4000 tiempo: 1.8311590000521392 s (1.144474375032587e-07*n^2 s)\n",
      "  puntos: 5000 tiempo: 3.055642000050284 s (1.2222568000201136e-07*n^2 s)\n",
      "Dimensiones: 3D\n",
      "  puntos: 10 tiempo: 1.2570529474647015e-05 s (1.2570529474647016e-07*n^2 s)\n",
      "  puntos: 20 tiempo: 5.073557775727366e-05 s (1.2683894439318414e-07*n^2 s)\n",
      "  puntos: 50 tiempo: 0.00032300243875375243 s (1.2920097550150098e-07*n^2 s)\n",
      "  puntos: 100 tiempo: 0.001296341817148707 s (1.2963418171487072e-07*n^2 s)\n",
      "  puntos: 200 tiempo: 0.005358153337147087 s (1.339538334286772e-07*n^2 s)\n",
      "  puntos: 500 tiempo: 0.03789094998501241 s (1.5156379994004964e-07*n^2 s)\n",
      "  puntos: 1000 tiempo: 0.1358478199923411 s (1.358478199923411e-07*n^2 s)\n",
      "  puntos: 2000 tiempo: 0.5510646099806763 s (1.3776615249516907e-07*n^2 s)\n",
      "  puntos: 3000 tiempo: 1.1917119000572711 s (1.3241243333969678e-07*n^2 s)\n",
      "  puntos: 4000 tiempo: 2.1379908999660984 s (1.3362443124788116e-07*n^2 s)\n",
      "  puntos: 5000 tiempo: 3.3147484000073746 s (1.3258993600029498e-07*n^2 s)\n",
      "Dimensiones: 4D\n",
      "  puntos: 10 tiempo: 1.526149850409407e-05 s (1.5261498504094072e-07*n^2 s)\n",
      "  puntos: 20 tiempo: 6.218748992731965e-05 s (1.5546872481829913e-07*n^2 s)\n",
      "  puntos: 50 tiempo: 0.00039977634143902036 s (1.5991053657560814e-07*n^2 s)\n",
      "  puntos: 100 tiempo: 0.0015781836383129385 s (1.5781836383129384e-07*n^2 s)\n",
      "  puntos: 200 tiempo: 0.006064686664224913 s (1.516171666056228e-07*n^2 s)\n",
      "  puntos: 500 tiempo: 0.03988319999771193 s (1.5953279999084772e-07*n^2 s)\n",
      "  puntos: 1000 tiempo: 0.15883974999887868 s (1.5883974999887867e-07*n^2 s)\n",
      "  puntos: 2000 tiempo: 0.6297180899884551 s (1.5742952249711378e-07*n^2 s)\n",
      "  puntos: 3000 tiempo: 1.414068500045687 s (1.5711872222729855e-07*n^2 s)\n",
      "  puntos: 4000 tiempo: 2.542444600025192 s (1.589027875015745e-07*n^2 s)\n",
      "  puntos: 5000 tiempo: 3.946169100003317 s (1.5784676400013268e-07*n^2 s)\n"
     ]
    },
    {
     "data": {
      "image/png": "[encoded data removed]",
      "text/plain": [
       "<Figure size 640x480 with 1 Axes>"
      ]
     },
     "metadata": {},
     "output_type": "display_data"
    }
   ],
   "source": [
    "import timeit\n",
    "import matplotlib.pyplot as plt\n",
    "x = [10, 20, 50, 100, 200, 500, 1000, 2000, 3000, 4000, 5000]\n",
    "y = {}\n",
    "for dim in [1, 2,3,4]:\n",
    "    print(f\"Dimensiones: {dim}D\")\n",
    "    ydim = []\n",
    "    for num in x:\n",
    "        sets = 10 if num < 3000 else 1\n",
    "        reps = 1000*1000//(sets*num*num)+1\n",
    "        t_avg = 0\n",
    "        for r in range(sets):\n",
    "            puntos=puntos_aleatorios(num,dim)\n",
    "            t = timeit.timeit(lambda:puntos_cercanos_fuerza_bruta(puntos), number=reps)\n",
    "            t_avg += t\n",
    "        t_avg /= sets*reps\n",
    "        ydim.append(t_avg)\n",
    "        k = t_avg / (num*num)\n",
    "        print(f\"  puntos: {num} tiempo: {t_avg} s ({k}*n^2 s)\")\n",
    "    y[dim] = ydim\n",
    "plt.plot(x,y[1],x,y[2],x,y[3],x,y[4])\n",
    "plt.xlabel(\"n\")\n",
    "plt.ylabel(\"time (s)\")\n",
    "plt.title('Algoritmo de fuerza bruta')\n",
    "plt.legend([\"1D\", \"2D\", \"3D\", \"4D\"])\n",
    "plt.show()"
   ]
  },
  {
   "attachments": {},
   "cell_type": "markdown",
   "metadata": {},
   "source": [
    "Se comprueba con los valores númericos y con las gráficas su rendimiento $O(n)$."
   ]
  },
  {
   "cell_type": "code",
   "execution_count": 176,
   "metadata": {},
   "outputs": [
    {
     "name": "stdout",
     "output_type": "stream",
     "text": [
      "Dimensiones: 1D\n",
      "  puntos: 500 tiempo: 0.001684500020928681 s (3.369000041857362e-06*n s)\n",
      "  puntos: 1000 tiempo: 0.0020188399823382495 s (2.0188399823382495e-06*n s)\n",
      "  puntos: 2000 tiempo: 0.0064336400013417 s (3.21682000067085e-06*n s)\n",
      "  puntos: 5000 tiempo: 0.009197399998083711 s (1.8394799996167424e-06*n s)\n",
      "  puntos: 10000 tiempo: 0.012349339993670582 s (1.2349339993670583e-06*n s)\n",
      "  puntos: 20000 tiempo: 0.005433840001933277 s (2.7169200009666385e-07*n s)\n",
      "  puntos: 50000 tiempo: 0.013763899984769522 s (2.7527799969539045e-07*n s)\n",
      "  puntos: 100000 tiempo: 0.02597833997569978 s (2.597833997569978e-07*n s)\n",
      "Dimensiones: 2D\n",
      "  puntos: 500 tiempo: 0.003106839978136122 s (6.213679956272244e-06*n s)\n",
      "  puntos: 1000 tiempo: 0.006662499951198697 s (6.662499951198697e-06*n s)\n",
      "  puntos: 2000 tiempo: 0.012792500015348197 s (6.396250007674098e-06*n s)\n",
      "  puntos: 5000 tiempo: 0.04173754001967609 s (8.347508003935218e-06*n s)\n",
      "  puntos: 10000 tiempo: 0.05964991999790072 s (5.9649919997900725e-06*n s)\n",
      "  puntos: 20000 tiempo: 0.14069405999034643 s (7.034702999517321e-06*n s)\n",
      "  puntos: 50000 tiempo: 0.25701525998301805 s (5.140305199660361e-06*n s)\n",
      "  puntos: 100000 tiempo: 0.4854472399922088 s (4.854472399922088e-06*n s)\n",
      "Dimensiones: 3D\n",
      "  puntos: 500 tiempo: 0.006399880000390113 s (1.2799760000780225e-05*n s)\n",
      "  puntos: 1000 tiempo: 0.012503480026498436 s (1.2503480026498437e-05*n s)\n",
      "  puntos: 2000 tiempo: 0.02539640001486987 s (1.2698200007434935e-05*n s)\n",
      "  puntos: 5000 tiempo: 0.07056922004558146 s (1.4113844009116291e-05*n s)\n",
      "  puntos: 10000 tiempo: 0.13530794000253082 s (1.3530794000253083e-05*n s)\n",
      "  puntos: 20000 tiempo: 0.285523259988986 s (1.42761629994493e-05*n s)\n",
      "  puntos: 50000 tiempo: 0.7188983199885115 s (1.437796639977023e-05*n s)\n",
      "  puntos: 100000 tiempo: 1.5941305399872363 s (1.5941305399872362e-05*n s)\n",
      "Dimensiones: 4D\n",
      "  puntos: 500 tiempo: 0.01760409998241812 s (3.520819996483624e-05*n s)\n",
      "  puntos: 1000 tiempo: 0.034326840005815026 s (3.4326840005815024e-05*n s)\n",
      "  puntos: 2000 tiempo: 0.07003527998458595 s (3.5017639992292974e-05*n s)\n",
      "  puntos: 5000 tiempo: 0.1707814999856055 s (3.4156299997121095e-05*n s)\n",
      "  puntos: 10000 tiempo: 0.3482374999905005 s (3.482374999905005e-05*n s)\n",
      "  puntos: 20000 tiempo: 0.7086469400208444 s (3.543234700104222e-05*n s)\n",
      "  puntos: 50000 tiempo: 1.7981123000383377 s (3.596224600076675e-05*n s)\n",
      "  puntos: 100000 tiempo: 3.8759706999873744 s (3.8759706999873745e-05*n s)\n"
     ]
    },
    {
     "data": {
      "image/png": "[encoded data removed]",
      "text/plain": [
       "<Figure size 640x480 with 1 Axes>"
      ]
     },
     "metadata": {},
     "output_type": "display_data"
    }
   ],
   "source": [
    "import timeit\n",
    "import matplotlib.pyplot as plt\n",
    "x = [500, 1000, 2000, 5000, 10000, 20000, 50000, 100000]\n",
    "y = {}\n",
    "for dim in [1,2,3,4]:\n",
    "    print(f\"Dimensiones: {dim}D\")\n",
    "    ydim = []\n",
    "    for num in x:\n",
    "        sets = 10 if num < 100 else 5\n",
    "        reps = 1000*1000//(sets*num*num)+1\n",
    "        t_avg = 0\n",
    "        for r in range(sets):\n",
    "            puntos=puntos_aleatorios(num,dim)\n",
    "            t = timeit.timeit(lambda:puntos_cercanos(puntos), number=reps)\n",
    "            t_avg += t\n",
    "        t_avg /= sets*reps\n",
    "        ydim.append(t_avg)\n",
    "        k = t_avg / num\n",
    "        print(f\"  puntos: {num} tiempo: {t_avg} s ({k}*n s)\")\n",
    "    y[dim] = ydim\n",
    "plt.plot(x,y[1],x,y[2],x,y[3],x,y[4])\n",
    "plt.xlabel(\"n\")\n",
    "plt.ylabel(\"time (s)\")\n",
    "plt.title('Algoritmo Khuller and Matias 1995')\n",
    "plt.legend([\"1D\", \"2D\", \"3D\", \"4D\"])\n",
    "plt.show()"
   ]
  },
  {
   "attachments": {},
   "cell_type": "markdown",
   "metadata": {},
   "source": [
    "Se comprueba con los valores númericos y con las gráficas su rendimiento $O(n)$. Nótese no obstante que el rendimiento sí es lineal con respecto al número de puntos, pero con respecto a las dimensiones es exponencial. Esto se debe en la búsqueda de los vecinos de Moore, que hay que tener en cuenta que son $3^k$ vecinos, siendo $k$ el número de dimensiones. No obstante, el algoritmo nunca estuvo diseñado para $k$ siendo muy grande, sino para $n$ siendo muy grande. Aún así, el rendimeinto es muy superior que el rendimiento por fuerta bruta excepto para $n$ extremadamente pequeño o $k$ (dimensión) muy grande."
   ]
  },
  {
   "attachments": {},
   "cell_type": "markdown",
   "metadata": {},
   "source": []
  }
 ],
 "metadata": {
  "kernelspec": {
   "display_name": "Python 3",
   "language": "python",
   "name": "python3"
  },
  "language_info": {
   "codemirror_mode": {
    "name": "ipython",
    "version": 3
   },
   "file_extension": ".py",
   "mimetype": "text/x-python",
   "name": "python",
   "nbconvert_exporter": "python",
   "pygments_lexer": "ipython3",
   "version": "3.11.3"
  },
  "orig_nbformat": 4
 },
 "nbformat": 4,
 "nbformat_minor": 2
}
