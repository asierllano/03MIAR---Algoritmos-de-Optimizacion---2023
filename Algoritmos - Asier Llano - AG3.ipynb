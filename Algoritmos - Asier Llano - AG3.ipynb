{
 "cells": [
  {
   "attachments": {},
   "cell_type": "markdown",
   "metadata": {},
   "source": [
    "# Actividad Guiada 3 {-}\n",
    "# Asier Llano  {-}\n",
    "Link repostorio github:\n",
    "[https://github.com/asierllano/03MIAR---Algoritmos-de-Optimizacion---2023]\n",
    "\n",
    "# El problema del agente Viajero\n",
    "\n",
    "Esta actividad guiada proporciona la solución del agente Viajero. Empezamos por la solución propuesta en clase y la vamos optimizando en velocidad y eficacia para proporcionar una solución razonablemente buena de este problema."
   ]
  },
  {
   "cell_type": "code",
   "execution_count": 1,
   "metadata": {},
   "outputs": [],
   "source": [
    "import tsplib95\n",
    "import random\n",
    "from math import e\n",
    "import copy\n",
    "import urllib\n",
    "\n",
    "# Descargamos el fichero de datos (Matriz de distancias)\n",
    "file = \"swiss42.tsp\"\n",
    "urllib.request.urlretrieve(\"http://comopt.ifi.uni-heidelberg.de/software/TSPLIB95/tsp/swiss42.tsp.gz\", file + \".gz\")\n",
    "!gzip -f -d swiss42.tsp.gz \n",
    "\n",
    "# Coordenadas 51-city problem (Christofides/eilon)\n",
    "#file = \"ei151.tsp\"; urlib.request.urlretrieve(\"http://comopt.ifi.uni-heidelberg.de/software/TSPLIB95/tsp/ei151.tsp.gz\")\n",
    "\n",
    "# Coordenadas - 48 capitals of the US (Padberg/Rinaldi)\n",
    "#file = \"att48.tsp\"; urlib.request.urlretrieve(\"http://comopt.ifi.uni-heidelberg.de/software/TSPLIB95/tsp/att48.tsp.gz\")\n",
    "\n",
    "# Lee el problema del archivo\n",
    "problema = tsplib95.load(file)\n",
    "\n",
    "# Nodos & aristas\n",
    "nodos = list(problema.get_nodes())\n",
    "aristas = list(problema.get_edges())"
   ]
  },
  {
   "cell_type": "markdown",
   "metadata": {},
   "source": [
    "# Funciones generales"
   ]
  },
  {
   "cell_type": "code",
   "execution_count": 2,
   "metadata": {},
   "outputs": [],
   "source": [
    "# Se realiza una permutación aleatoria\n",
    "def crear_solucion(nodos):\n",
    "    return random.sample(nodos, k=len(nodos))\n",
    "\n",
    "# Devuelve la distancia total de una trayectoria / solucion\n",
    "def distancia_total(problema, solucion):\n",
    "    distancia_total=0\n",
    "    for i in range(0, len(solucion)):\n",
    "        distancia_total += problema.get_weight(solucion[i-1], solucion[i])\n",
    "    return distancia_total"
   ]
  },
  {
   "cell_type": "markdown",
   "metadata": {},
   "source": [
    "# Búsqueda aleatoria"
   ]
  },
  {
   "cell_type": "code",
   "execution_count": 3,
   "metadata": {},
   "outputs": [
    {
     "name": "stdout",
     "output_type": "stream",
     "text": [
      "Mejor solucion [0, 32, 37, 3, 14, 31, 8, 25, 9, 23, 29, 40, 22, 1, 5, 35, 15, 36, 33, 12, 11, 21, 41, 13, 26, 2, 38, 10, 6, 24, 39, 27, 30, 19, 4, 28, 34, 17, 7, 20, 18, 16]\n",
      "Distancia 3956\n"
     ]
    }
   ],
   "source": [
    "def busqueda_aleatoria(problema, nodos, n):\n",
    "    mejor_solucion = None\n",
    "    mejor_distancia = float(\"inf\")\n",
    "    for _ in range(n):\n",
    "        solucion = crear_solucion(nodos)\n",
    "        distancia = distancia_total(problema, solucion)\n",
    "        if distancia < mejor_distancia:\n",
    "            mejor_solucion = solucion\n",
    "            mejor_distancia = distancia\n",
    "    return mejor_solucion\n",
    "\n",
    "# Búsqueda aleatoria con 5000 iteraciones\n",
    "solucion = busqueda_aleatoria(problema, list(problema.get_nodes()), 500)\n",
    "print(\"Mejor solucion\", solucion)\n",
    "print(\"Distancia\", distancia_total(problema, solucion))\n"
   ]
  },
  {
   "attachments": {},
   "cell_type": "markdown",
   "metadata": {},
   "source": [
    "# Búsqueda local"
   ]
  },
  {
   "cell_type": "code",
   "execution_count": 4,
   "metadata": {},
   "outputs": [
    {
     "name": "stdout",
     "output_type": "stream",
     "text": [
      "Distancia Solucion inicial: 3956\n",
      "Distancia Solucion local: 3718\n"
     ]
    }
   ],
   "source": [
    "def genera_vecina(problema, solucion):\n",
    "    mejor_solucion=None\n",
    "    mejor_distancia=float(\"inf\")\n",
    "    for i in range(1,len(solucion)-1):\n",
    "        for j in range(i+1, len(solucion)):\n",
    "            vecina = solucion[:i] + [solucion[j]] + solucion[i+1:j] + [solucion[i]] + solucion[j+1:]\n",
    "            distancia_vecina = distancia_total(problema, vecina)\n",
    "            if distancia_vecina <= mejor_distancia:\n",
    "                mejor_distancia = distancia_vecina\n",
    "                mejor_solucion = vecina\n",
    "    return mejor_solucion\n",
    "    \n",
    "print(\"Distancia Solucion inicial:\", distancia_total(problema, solucion))\n",
    "nueva_solucion = genera_vecina(problema, solucion)\n",
    "print(\"Distancia Solucion local:\", distancia_total(problema, nueva_solucion))"
   ]
  },
  {
   "cell_type": "code",
   "execution_count": 5,
   "metadata": {},
   "outputs": [
    {
     "name": "stdout",
     "output_type": "stream",
     "text": [
      "Distancia Solucion inicial: 3956\n",
      "Distanica Solucion local: 1798\n"
     ]
    }
   ],
   "source": [
    "def busqueda_local(problema, solucion):\n",
    "    distancia=distancia_total(problema, solucion)\n",
    "    while True:\n",
    "        vecina = genera_vecina(problema, solucion)\n",
    "        vdist  = distancia_total(problema, vecina)\n",
    "        if vdist >= distancia:\n",
    "            break\n",
    "        solucion = vecina\n",
    "        distancia = vdist\n",
    "    return solucion\n",
    "\n",
    "print(\"Distancia Solucion inicial:\", distancia_total(problema, solucion))\n",
    "solucion_local = busqueda_local(problema, solucion)\n",
    "print(\"Distanica Solucion local:\", distancia_total(problema, solucion_local))"
   ]
  },
  {
   "cell_type": "markdown",
   "metadata": {},
   "source": [
    "# Optimización\n",
    "\n",
    "## Optimización en velocidad de búsqueda\n",
    "\n",
    "Actualmente el algoritmo tarda 1s (en mi PC) en la búsqueda local, este número es muy mejorable, teniendo en cuenta que la búsqueda local es en una vecindad muy acotada, basada únicamente en el intercambio de nodos. Antes de complicar el algoritmo, ampliando la vecindad, incluyendo multiarranque o. El objetivo no es hacerlo más rápido para buscar más con las mismas técnicas, sino hacerlo más rápido para acelerar el desarrollo y poder introducir después técnicas más complejas.\n",
    "\n",
    "### Optimización en velocidad por representación de pesos más simple\n",
    "\n",
    "Medimos el rendimiento de la búsqueda local:"
   ]
  },
  {
   "cell_type": "code",
   "execution_count": 6,
   "metadata": {},
   "outputs": [
    {
     "name": "stdout",
     "output_type": "stream",
     "text": [
      "1.18 s ± 8.68 ms per loop (mean ± std. dev. of 7 runs, 1 loop each)\n"
     ]
    }
   ],
   "source": [
    "%%timeit\n",
    "solucion_local = busqueda_local(problema, solucion)"
   ]
  },
  {
   "cell_type": "markdown",
   "metadata": {},
   "source": [
    "Para mejorarlo cambiamos la función get_weight por una lista de listas (también he probado la solución con matriz de numpy pero como el tamaño no es muy grande, es más eficiente la solución en python puro):"
   ]
  },
  {
   "cell_type": "code",
   "execution_count": 7,
   "metadata": {},
   "outputs": [],
   "source": [
    "# Convierte el problema en una matriz de pesos\n",
    "def problema_matriz(problema):\n",
    "    n = len(list(problema.get_nodes()))\n",
    "    m = [list(range(n)) for _ in range(n)]\n",
    "    for i in range(n):\n",
    "        for j in range(n):\n",
    "            m[i][j] = problema.get_weight(i,j)\n",
    "    return m\n",
    "\n",
    "# Devuelve la distancia total de una trayectoria / solucion\n",
    "def distancia_total(problema, solucion):\n",
    "    distancia_total=0\n",
    "    for i in range(0, len(solucion)):\n",
    "        distancia_total += problema[solucion[i-1]][solucion[i]]\n",
    "    return distancia_total\n",
    "\n",
    "# Convertimos el problema en un problema matriz          \n",
    "problema_matriz = problema_matriz(problema)"
   ]
  },
  {
   "cell_type": "markdown",
   "metadata": {},
   "source": [
    "Medimos el nuevo rendimiento:"
   ]
  },
  {
   "cell_type": "code",
   "execution_count": 8,
   "metadata": {},
   "outputs": [
    {
     "name": "stdout",
     "output_type": "stream",
     "text": [
      "69.3 ms ± 2.35 ms per loop (mean ± std. dev. of 7 runs, 10 loops each)\n"
     ]
    }
   ],
   "source": [
    "%%timeit\n",
    "solucion_local = busqueda_local(problema_matriz, solucion)"
   ]
  },
  {
   "cell_type": "markdown",
   "metadata": {},
   "source": [
    "En mi PC ha pasado de tardar 1400ms a 81ms (un factor de aceleración de x17). Vamos a poder utilizar este factor de aceleración para poder hacer una búsqueda más extensa, permitiendo una búsqueda local más intensiva o multiarranque.\n",
    "\n",
    "Comprobamos que ha convergido a una solución de la misma distancia:"
   ]
  },
  {
   "cell_type": "code",
   "execution_count": 9,
   "metadata": {},
   "outputs": [
    {
     "name": "stdout",
     "output_type": "stream",
     "text": [
      "Distanica Solucion local: 1798\n"
     ]
    }
   ],
   "source": [
    "print(\"Distanica Solucion local:\", distancia_total(problema_matriz, solucion_local))"
   ]
  },
  {
   "cell_type": "markdown",
   "metadata": {},
   "source": [
    "### Optimización en velocidad evitando generar y calcular todas las vecinas\n",
    "\n",
    "La mayoría de los enlaces no cambian y se generan listas que solo sirven para recalcular enlaces. Si se utilizan simplemente las diferencias de los enlaces que cambian como figura de mérito, el cálculo es muchísimo más rápido.\n",
    "\n",
    "Nótese que como es un caso más complicado, se ha incluido un código de comprobación (comentado en su versión final) para comprobar que las distancias fueron calculadas correctamente."
   ]
  },
  {
   "cell_type": "code",
   "execution_count": 10,
   "metadata": {},
   "outputs": [
    {
     "name": "stdout",
     "output_type": "stream",
     "text": [
      "Distancia Solucion inicial: 3956\n",
      "Distancia Solucion local: 3718\n"
     ]
    }
   ],
   "source": [
    "def genera_vecina(problema, solucion):\n",
    "    mejor_solucion=None\n",
    "    mejor_distancia=0\n",
    "    #distancia_orig = distancia_total(problema, solucion)\n",
    "    for i in range(1,len(solucion)-1):\n",
    "        ni = solucion[i]     # El punto i\n",
    "        nip = solucion[i-1]  # El punto i previo\n",
    "        nin = solucion[i+1]  # El punto i siguiente\n",
    "        distancia_base = -problema[nip][ni]-problema[ni][nin]\n",
    "        for j in range(i+1, len(solucion)):\n",
    "            nj = solucion[j]\n",
    "            njp = solucion[j-1]\n",
    "            njn = solucion[j+1 if (j+1) < len(solucion) else (j+1-len(solucion))]\n",
    "            distancia_vecina = distancia_base - problema[nj][njn]\n",
    "            if nin == nj:\n",
    "                distancia_vecina += problema[nip][nj] + problema[ni][njn] + problema[nj][ni]\n",
    "            else:\n",
    "                distancia_vecina += -problema[njp][nj] + problema[nip][nj] + problema[nj][nin] + problema[njp][ni] + problema[ni][njn]\n",
    "            #vecina = solucion[:i] + [nj] + solucion[i+1:j] + [ni] + solucion[j+1:]\n",
    "            #assert(distancia_vecina + distancia_orig == distancia_total(problema, vecina))\n",
    "            if distancia_vecina <= mejor_distancia:\n",
    "                mejor_distancia = distancia_vecina\n",
    "                mejor_solucion = (i,j)\n",
    "    if mejor_solucion == None:\n",
    "        return solucion\n",
    "    i = mejor_solucion[0]\n",
    "    j = mejor_solucion[1]\n",
    "    return solucion[:i] + [solucion[j]] + solucion[i+1:j] + [solucion[i]] + solucion[j+1:]\n",
    "    \n",
    "print(\"Distancia Solucion inicial:\", distancia_total(problema_matriz, solucion))\n",
    "nueva_solucion = genera_vecina(problema_matriz, solucion)\n",
    "print(\"Distancia Solucion local:\", distancia_total(problema_matriz, nueva_solucion))"
   ]
  },
  {
   "cell_type": "code",
   "execution_count": 11,
   "metadata": {},
   "outputs": [
    {
     "name": "stdout",
     "output_type": "stream",
     "text": [
      "6.84 ms ± 611 µs per loop (mean ± std. dev. of 7 runs, 100 loops each)\n"
     ]
    }
   ],
   "source": [
    "%%timeit\n",
    "solucion_local = busqueda_local(problema_matriz, solucion)"
   ]
  },
  {
   "cell_type": "markdown",
   "metadata": {},
   "source": [
    "Vemos que con esta nueva búsqueda, el tiempo ha mejorado muchísimo. Hemos pasado de los 1400ms iniciales a 7.5ms (en mi PC), lo que supone una aceleración de x180. Esto nos va a permitir utilizar este tiempo para mejorar el algoritmo buscando vecinos más lejanos (evitando quedarnos en mínimos locales) y proveyendo multiarranque."
   ]
  },
  {
   "cell_type": "code",
   "execution_count": 12,
   "metadata": {},
   "outputs": [
    {
     "name": "stdout",
     "output_type": "stream",
     "text": [
      "Distanica Solucion local: 1798\n"
     ]
    }
   ],
   "source": [
    "print(\"Distanica Solucion local:\", distancia_total(problema_matriz, solucion_local))"
   ]
  },
  {
   "cell_type": "markdown",
   "metadata": {},
   "source": [
    "# Busqueda con multiarranque"
   ]
  },
  {
   "cell_type": "code",
   "execution_count": 13,
   "metadata": {},
   "outputs": [],
   "source": [
    "def busqueda_multiarranque(problema, n, objetivo=0):\n",
    "    distancia = float(\"inf\")\n",
    "    solucion = None\n",
    "    for _ in range(n):\n",
    "        s = busqueda_aleatoria(problema, range(0,len(problema)), 1)\n",
    "        s = busqueda_local(problema, s)\n",
    "        d = distancia_total(problema, s)\n",
    "        if d < distancia:\n",
    "            distancia = d\n",
    "            solucion = s\n",
    "            if distancia <= objetivo:\n",
    "                break\n",
    "    return solucion"
   ]
  },
  {
   "cell_type": "code",
   "execution_count": 14,
   "metadata": {},
   "outputs": [
    {
     "name": "stdout",
     "output_type": "stream",
     "text": [
      "Solucion multiarranque [17, 7, 26, 18, 12, 11, 25, 10, 9, 39, 21, 24, 40, 23, 41, 8, 29, 22, 38, 30, 28, 4, 6, 5, 13, 19, 14, 16, 15, 37, 36, 35, 20, 33, 34, 32, 27, 2, 3, 1, 0, 31]\n",
      "Distanica Solucion multiarranque: 1487\n"
     ]
    }
   ],
   "source": [
    "solucion_multiarranque=busqueda_multiarranque(problema_matriz, 500)\n",
    "print(\"Solucion multiarranque\", solucion_multiarranque)\n",
    "print(\"Distanica Solucion multiarranque:\", distancia_total(problema_matriz, solucion_multiarranque))"
   ]
  },
  {
   "cell_type": "markdown",
   "metadata": {},
   "source": [
    "# Búsqueda de vecinos más amplia\n",
    "\n",
    "La busqueda de vecinos propuesta en la práctica guiada es de un reemplazo de un vecino por otro. Además, tiene en cuenta que en esa búsqueda de vecinos, además de ser de un único paradigma, no intercambia el nodo 0.\n",
    "\n",
    "Se plantea una búsqueda de vecinos con el siguiente criterio: Mueve un segmento de n nodos a otra posición al derecho y al revés.\n",
    "\n",
    "Nótese que el código comentado hace la ejecución mucho más lenta, pero comprueba que las distancias calculadas son las correctas. Para asegurarnos que las distancias calculadas de forma incremental son correctas."
   ]
  },
  {
   "cell_type": "code",
   "execution_count": 15,
   "metadata": {},
   "outputs": [
    {
     "name": "stdout",
     "output_type": "stream",
     "text": [
      "Distancia Solucion inicial: 3956\n",
      "Distancia Solucion local: 3619\n"
     ]
    }
   ],
   "source": [
    "def genera_vecina(problema, solucion):\n",
    "    mejor_solucion=None\n",
    "    mejor_distancia=0\n",
    "    # Estrategia: Mueve un segmento de n nodos de la posición i a la posición j\n",
    "    #distancia_orig = distancia_total(problema, solucion)\n",
    "    for n in range(1, (len(solucion)-1)//2+1):\n",
    "        for i in range(len(solucion)):\n",
    "            # Consigue los nodos de antes, después para coger los dos enlaces\n",
    "            nif = solucion[i]\n",
    "            nil = solucion[i+n-1-len(solucion)]\n",
    "            nip = solucion[i-1]\n",
    "            nin = solucion[i+n-len(solucion)]\n",
    "            # Calcula la distancia de eliminar el segmento\n",
    "            distancia_base = problema[nip][nin] - problema[nif][nip] - problema[nil][nin]\n",
    "            # Ahora mira cual es la mejor posición para insertarlo antes o despues\n",
    "            for jrange in [range(max(0, n+i-len(solucion)+1),i),range(i+n+1,len(solucion))]:\n",
    "                for j in jrange:\n",
    "                    njp = solucion[j-1]\n",
    "                    nj = solucion[j]  \n",
    "                    # Calcula la distancia de reintegrar el segmento en otra posición\n",
    "                    distancia_vecina_base = distancia_base - problema[njp][nj]\n",
    "                    distancia_vecina_directa = distancia_vecina_base + problema[njp][nif] + problema[nil][nj]\n",
    "                    distancia_vecina_inversa = distancia_vecina_base + problema[njp][nil] + problema[nif][nj]\n",
    "                    # Checkea si la medida es mejor que la anterior en directa o inversa\n",
    "                    if distancia_vecina_directa < distancia_vecina_inversa:\n",
    "                        if distancia_vecina_directa <= mejor_distancia:\n",
    "                            mejor_distancia = distancia_vecina_directa\n",
    "                            mejor_solucion = (n,i,j,False)\n",
    "                    else:\n",
    "                        if distancia_vecina_inversa <= mejor_distancia:\n",
    "                            mejor_distancia = distancia_vecina_inversa\n",
    "                            mejor_solucion = (n,i,j,True)\n",
    "                    # Genera la vecina y comprueba la distancia\n",
    "                    #for revierte in [False, True]:\n",
    "                        #distancia = distancia_vecina_inversa if revierte else distancia_vecina_directa\n",
    "                        #segmento = solucion[i:min(i+n,len(solucion))] + solucion[:max(0,i+n-len(solucion))]\n",
    "                        #if revierte:\n",
    "                            #segmento.reverse()\n",
    "                        #vecina_base = solucion[max(0,i+n-len(solucion)):i] + solucion[min(i+n,len(solucion)):]\n",
    "                        #base = n if j > i+n else max(0, n+i-len(solucion))\n",
    "                        #vecina = vecina_base[:(j-base)] + segmento + vecina_base[(j-base):]\n",
    "                        #assert(distancia + distancia_orig == distancia_total(problema, vecina))\n",
    "    if mejor_solucion != None:\n",
    "        n,i,j,revierte=mejor_solucion\n",
    "        distancia=mejor_distancia\n",
    "        # Genera la vecina\n",
    "        segmento = solucion[i:min(i+n,len(solucion))] + solucion[:max(0,i+n-len(solucion))]\n",
    "        if revierte:\n",
    "            segmento.reverse()\n",
    "        vecina_base = solucion[max(0,i+n-len(solucion)):i] + solucion[min(i+n,len(solucion)):]\n",
    "        base = n if j > i+n else max(0, n+i-len(solucion))\n",
    "        vecina = vecina_base[:(j-base)] + segmento + vecina_base[(j-base):]\n",
    "        # comprueba la distancia\n",
    "        #assert(distancia + distancia_orig == distancia_total(problema, vecina))\n",
    "        return vecina\n",
    "    return solucion\n",
    "    \n",
    "print(\"Distancia Solucion inicial:\", distancia_total(problema_matriz, solucion))\n",
    "nueva_solucion = genera_vecina(problema_matriz, solucion)\n",
    "print(\"Distancia Solucion local:\", distancia_total(problema_matriz, nueva_solucion))"
   ]
  },
  {
   "cell_type": "code",
   "execution_count": 16,
   "metadata": {},
   "outputs": [
    {
     "name": "stdout",
     "output_type": "stream",
     "text": [
      "104 ms ± 1.76 ms per loop (mean ± std. dev. of 7 runs, 10 loops each)\n"
     ]
    }
   ],
   "source": [
    "%%timeit\n",
    "solucion_local = busqueda_local(problema_matriz, solucion)"
   ]
  },
  {
   "cell_type": "code",
   "execution_count": 17,
   "metadata": {},
   "outputs": [
    {
     "name": "stdout",
     "output_type": "stream",
     "text": [
      "Distanica Solucion local: 1798\n"
     ]
    }
   ],
   "source": [
    "print(\"Distanica Solucion local:\", distancia_total(problema_matriz, solucion_local))"
   ]
  },
  {
   "cell_type": "code",
   "execution_count": 18,
   "metadata": {},
   "outputs": [
    {
     "name": "stdout",
     "output_type": "stream",
     "text": [
      "Solucion multiarranque [26, 5, 13, 19, 14, 16, 15, 37, 7, 17, 31, 36, 35, 20, 33, 34, 32, 0, 1, 6, 4, 3, 27, 2, 28, 29, 30, 38, 22, 39, 24, 40, 21, 9, 23, 41, 8, 10, 25, 11, 12, 18]\n",
      "Distanica Solucion multiarranque: 1273\n"
     ]
    }
   ],
   "source": [
    "solucion_multiarranque=busqueda_multiarranque(problema_matriz, 100, 1273)\n",
    "print(\"Solucion multiarranque\", solucion_multiarranque)\n",
    "print(\"Distanica Solucion multiarranque:\", distancia_total(problema_matriz, solucion_multiarranque))"
   ]
  },
  {
   "cell_type": "code",
   "execution_count": 20,
   "metadata": {},
   "outputs": [
    {
     "name": "stdout",
     "output_type": "stream",
     "text": [
      "303 ms ± 53.1 ms per loop (mean ± std. dev. of 7 runs, 10 loops each)\n"
     ]
    }
   ],
   "source": [
    "%%timeit\n",
    "solucion_multiarranque=busqueda_multiarranque(problema_matriz, 100, 1273)"
   ]
  },
  {
   "cell_type": "markdown",
   "metadata": {},
   "source": [
    "# Conclusiones\n",
    "\n",
    "Se ha partido de una solución mediocre que en 1400ms obtiene un resultado bastante lejos del mínimo conocido y se ha conseguido obtener el mínimo conocido en 300ms de media.\n",
    "\n",
    "Para ello se han seguido los siguientes pasos:\n",
    "* Se ha empezado con el algoritmo heurístico que se había hecho en clase que basándose en una solución aleatoria, la mejoraba buscando un mínimo local, a base de buscar soluciones vecinas. La soluciones vecinas se buscan cambiando un nodo por otro. Era capaz de sacar una solución mínima local en 1400ms.\n",
    "* Se ha optimizado el funcionamiento de esta solución, precalculando las distancias entre nodos y no recalculando todos los vecinos cuya distancia aumentan. Esto nos ha permitido optimizar el tiempo de una búsqueda local completa y bajarlo de 1400ms a 7 ms.\n",
    "* Se ha realizado una ejecución multiarranque. Básicamente repite el proceso anterior 500 veces, permitiendo que en 3.4s se obtenga una solución mucho mejor.\n",
    "* Se ha incorporado un búsqueda de vecinos más amplia y eficaz. La búsqueda de vecinos se realiza intercambiando un conjunto contiguo de n nodos de una posición y colocándolos en otra al derecho y al revés. Esto se ha realiado con la filosofía de computar únicamente los enlaces que cambian. Una búsqueda local de esta forma lleva aproximadamente 100ms.\n",
    "\n",
    "En una ejecución multiarranque la solución final es capaz de encontrar muy pronto la solución mejor conocida del problema (1273) en unos pocos arranques, tardando tan solo 300ms de media."
   ]
  }
 ],
 "metadata": {
  "kernelspec": {
   "display_name": "Python 3",
   "language": "python",
   "name": "python3"
  },
  "language_info": {
   "codemirror_mode": {
    "name": "ipython",
    "version": 3
   },
   "file_extension": ".py",
   "mimetype": "text/x-python",
   "name": "python",
   "nbconvert_exporter": "python",
   "pygments_lexer": "ipython3",
   "version": "3.10.6"
  },
  "orig_nbformat": 4
 },
 "nbformat": 4,
 "nbformat_minor": 2
}
