{
  "cells": [
    {
      "cell_type": "markdown",
      "metadata": {
        "id": "hVbXYX-RfPWh"
      },
      "source": [
        "# Algoritmos de optimización - Seminario<br>\n",
        "**Nombre y Apellidos:** Asier Llano  <br>\n",
        "**Url:** [https://github.com/asierllano/03MIAR---Algoritmos-de-Optimizacion---2023] <br>\n",
        "**Problema:** Organizar los horarios de partidos de La Liga<br>\n",
        "\n",
        "**Descripción del problema:**\n",
        "* Desde la La Liga de fútbol profesional se pretende organizar los horarios de los partidos de\n",
        "liga de cada jornada. Se conocen algunos datos que nos deben llevar a diseñar un\n",
        "algoritmo que realice la asignación de los partidos a los horarios de forma que maximice\n",
        "la audiencia.\n",
        "* Los horarios disponibles se conocen a priori y son los siguientes: Viernes 20h; Sábado 12h,16h,18h,20h; Domingo 12h,16h,18h,20h; Lunes 20h\n",
        "* En primer lugar se clasifican los equipos en tres categorías según el numero de\n",
        "seguidores( que tiene relación directa con la audiencia). Hay 3 equipos en la\n",
        "categoría A, 11 equipos de categoría B y 6 equipos de categoría C.\n",
        "* Se conoce estadísticamente la audiencia que genera cada partido según los equipos\n",
        "que se enfrentan y en horario de sábado a las 20h (el mejor en todos los casos). A-A: 2 Millones, A-B: 1.3 Millones, B-B: 0.9 Millones, A-C: 1 Millones, B-C: 0.75 Millones, C-C: 0.47 Millones\n",
        "* Si el horario del partido no se realiza a las 20 horas del sábado se sabe que se reduce\n",
        "según los coeficientes de la siguiente tabla. Viernes 20h (0.4); Sábado 12h (0.55), 16h (0.7), 18h (0.8), 20h (1); Domingo 12h (0.45), 16h (0.75), 18h (0.85), 20h (1); Lunes 20h (0.4)\n",
        "* Debemos asignar obligatoriamente siempre un partido el viernes y un partido el lunes\n",
        "* Es posible la coincidencia de horarios pero en este\n",
        "caso la audiencia de cada partido se verá afectada y\n",
        "se estima que se reduce en porcentaje según la\n",
        "siguiente tabla dependiendo del número de\n",
        "coincidencias: 0 (0%), 1 (25%), 2 (45%), 3 (60%), 4 (70%), 5 (75%), 6 (78%), 7 (80%), 8 (80%)\n",
        "\n",
        "\n",
        "....\n",
        "\n",
        "(*) La respuesta es obligatoria\n",
        "\n",
        "\n",
        "\n",
        "\n",
        "\n"
      ]
    },
    {
      "cell_type": "markdown",
      "metadata": {
        "id": "3_-exlrTgLd-"
      },
      "source": [
        "(*) **¿Cuantas posibilidades hay sin tener en cuenta las restricciones?**\n",
        "\n",
        "**¿Cuantas posibilidades hay teniendo en cuenta todas las restricciones.**\n",
        "\n",
        "\n"
      ]
    },
    {
      "cell_type": "markdown",
      "metadata": {
        "id": "WfCUqJyKhPcw"
      },
      "source": [
        "**Respuesta**"
      ]
    },
    {
      "cell_type": "markdown",
      "metadata": {
        "id": "iq6Fe32MgpDX"
      },
      "source": [
        "Analizamos tanto el espacio de enunciados, como el espacio de soluciones para entender la magnitud del problema completa:\n",
        "\n",
        "* **Espacio de enunciados**: Consideramos el espacio de enunciados como las posibilidades de combinaciones de partidos que tiene una jornada. Según mis cálculos el número de jornadas totales son en total ${9.38}·{10}^{12}$ pero tienen muchísimas simetrías, teniendo en cuenta que todos los equipos se clasifican en 'A', 'B' y 'C' y que todos los partidos en general se pueden clasificar en tan solo 6 categorías diferentes 'A-A', 'A-B', 'A-C', 'B-C', 'B-B' y 'C-C', y que su orden es irrelevante para la audiencia... el espacio de enunciados se reduce enormemente. El número total de enunciados normalizados a las 6 categorías de partidos, ordenados alfabéticamente, son solo 19. Todas las jornadas posibles se pueden reducir a una de las 19 posibles jornadas normalizadas. Se pueden generar todas ellos con el siguiente programa:"
      ]
    },
    {
      "cell_type": "code",
      "execution_count": 1,
      "metadata": {},
      "outputs": [
        {
          "name": "stdout",
          "output_type": "stream",
          "text": [
            "Total de enunciados: 19\n",
            " * ('A-A', 'A-B', 'B-B', 'B-B', 'B-B', 'B-B', 'B-B', 'C-C', 'C-C', 'C-C')\n",
            " * ('A-A', 'A-B', 'B-B', 'B-B', 'B-B', 'B-B', 'B-C', 'B-C', 'C-C', 'C-C')\n",
            " * ('A-A', 'A-B', 'B-B', 'B-B', 'B-B', 'B-C', 'B-C', 'B-C', 'B-C', 'C-C')\n",
            " * ('A-A', 'A-B', 'B-B', 'B-B', 'B-C', 'B-C', 'B-C', 'B-C', 'B-C', 'B-C')\n",
            " * ('A-A', 'A-C', 'B-B', 'B-B', 'B-B', 'B-B', 'B-B', 'B-C', 'C-C', 'C-C')\n",
            " * ('A-A', 'A-C', 'B-B', 'B-B', 'B-B', 'B-B', 'B-C', 'B-C', 'B-C', 'C-C')\n",
            " * ('A-A', 'A-C', 'B-B', 'B-B', 'B-B', 'B-C', 'B-C', 'B-C', 'B-C', 'B-C')\n",
            " * ('A-B', 'A-B', 'A-B', 'B-B', 'B-B', 'B-B', 'B-B', 'C-C', 'C-C', 'C-C')\n",
            " * ('A-B', 'A-B', 'A-B', 'B-B', 'B-B', 'B-B', 'B-C', 'B-C', 'C-C', 'C-C')\n",
            " * ('A-B', 'A-B', 'A-B', 'B-B', 'B-B', 'B-C', 'B-C', 'B-C', 'B-C', 'C-C')\n",
            " * ('A-B', 'A-B', 'A-B', 'B-B', 'B-C', 'B-C', 'B-C', 'B-C', 'B-C', 'B-C')\n",
            " * ('A-B', 'A-B', 'A-C', 'B-B', 'B-B', 'B-B', 'B-B', 'B-C', 'C-C', 'C-C')\n",
            " * ('A-B', 'A-B', 'A-C', 'B-B', 'B-B', 'B-B', 'B-C', 'B-C', 'B-C', 'C-C')\n",
            " * ('A-B', 'A-B', 'A-C', 'B-B', 'B-B', 'B-C', 'B-C', 'B-C', 'B-C', 'B-C')\n",
            " * ('A-B', 'A-C', 'A-C', 'B-B', 'B-B', 'B-B', 'B-B', 'B-B', 'C-C', 'C-C')\n",
            " * ('A-B', 'A-C', 'A-C', 'B-B', 'B-B', 'B-B', 'B-B', 'B-C', 'B-C', 'C-C')\n",
            " * ('A-B', 'A-C', 'A-C', 'B-B', 'B-B', 'B-B', 'B-C', 'B-C', 'B-C', 'B-C')\n",
            " * ('A-C', 'A-C', 'A-C', 'B-B', 'B-B', 'B-B', 'B-B', 'B-B', 'B-C', 'C-C')\n",
            " * ('A-C', 'A-C', 'A-C', 'B-B', 'B-B', 'B-B', 'B-B', 'B-C', 'B-C', 'B-C')\n"
          ]
        }
      ],
      "source": [
        "def genera_enunciados(a=3, b=11 ,c=6):\n",
        "    if a >= 1:\n",
        "        if a >= 2:\n",
        "            prefix = ['A-A']\n",
        "            for i in genera_enunciados(a-2,b,c):\n",
        "                yield prefix + i\n",
        "        if b >= 1:\n",
        "            prefix = ['A-B']\n",
        "            for i in genera_enunciados(a-1,b-1,c):\n",
        "                yield prefix + i\n",
        "        if c >= 1:\n",
        "            prefix = ['A-C']\n",
        "            for i in genera_enunciados(a-1,b,c-1):\n",
        "                yield prefix + i\n",
        "    elif b >= 1:\n",
        "        if b >= 2:\n",
        "            prefix = ['B-B']\n",
        "            for i in genera_enunciados(a,b-2,c):\n",
        "                yield prefix + i\n",
        "        if c >= 1:\n",
        "            prefix = ['B-C']\n",
        "            for i in genera_enunciados(a,b-1,c-1):\n",
        "                yield prefix + i\n",
        "    elif c >= 1:\n",
        "        assert(c >= 2)\n",
        "        prefix = ['C-C']\n",
        "        for i in genera_enunciados(a,b,c-2):\n",
        "            yield prefix + i\n",
        "    else:\n",
        "        yield []\n",
        "\n",
        "enunciados=set()\n",
        "for e in genera_enunciados():\n",
        "    e.sort()\n",
        "    enunciados.add(tuple(e))\n",
        "enunciados=list(enunciados)\n",
        "enunciados.sort()\n",
        "\n",
        "print(f\"Total de enunciados: {len(enunciados)}\")\n",
        "for e in enunciados:\n",
        "    print(f\" * {e}\")"
      ]
    },
    {
      "cell_type": "markdown",
      "metadata": {},
      "source": [
        "* **Espacio de soluciones**: El espacio de soluciones parece a priori también enorme, teniendo en cuenta que son 10 partidos y 10 slots diferentes de tiempo, podría ser de 10^{10}. Esto es falso, en realidad es muchísimo más reducido, porque es un problema con elementos repetitivos. Del mismo modos que con los enunciados tienen muchísimas simetrías, no tiene sentido probar permutaciones diferentes del mismo tipo de partidos. Además hay que tener en cuenta que los lunes y viernes hay un único partido. Todo esto hace que el número de combinaciones también se vea muy reducido. El siguiente programa calcula el número de combinaciones totales por tipo de jornada."
      ]
    },
    {
      "cell_type": "code",
      "execution_count": 2,
      "metadata": {},
      "outputs": [
        {
          "name": "stdout",
          "output_type": "stream",
          "text": [
            "Soluciones posibles por tipo de jornada:\n",
            " * A-A A-B B-B B-B B-B B-B B-B C-C C-C C-C con  5217408 soluciones\n",
            " * A-A A-B B-B B-B B-B B-B B-C B-C C-C C-C con 27971904 soluciones\n",
            " * A-A A-B B-B B-B B-B B-C B-C B-C B-C C-C con 19979520 soluciones\n",
            " * A-A A-B B-B B-B B-C B-C B-C B-C B-C B-C con  3156384 soluciones\n",
            " * A-A A-C B-B B-B B-B B-B B-B B-C C-C C-C con 13684224 soluciones\n",
            " * A-A A-C B-B B-B B-B B-B B-C B-C B-C C-C con 19979520 soluciones\n",
            " * A-A A-C B-B B-B B-B B-C B-C B-C B-C B-C con  5217408 soluciones\n",
            " * A-B A-B A-B B-B B-B B-B B-B C-C C-C C-C con  4080960 soluciones\n",
            " * A-B A-B A-B B-B B-B B-B B-C B-C C-C C-C con 18680832 soluciones\n",
            " * A-B A-B A-B B-B B-B B-C B-C B-C B-C C-C con 10699200 soluciones\n",
            " * A-B A-B A-B B-B B-C B-C B-C B-C B-C B-C con  1196448 soluciones\n",
            " * A-B A-B A-C B-B B-B B-B B-B B-C C-C C-C con 27971904 soluciones\n",
            " * A-B A-B A-C B-B B-B B-B B-C B-C B-C C-C con 34841088 soluciones\n",
            " * A-B A-B A-C B-B B-B B-C B-C B-C B-C B-C con  7320384 soluciones\n",
            " * A-B A-C A-C B-B B-B B-B B-B B-B C-C C-C con  7320384 soluciones\n",
            " * A-B A-C A-C B-B B-B B-B B-B B-C B-C C-C con 27971904 soluciones\n",
            " * A-B A-C A-C B-B B-B B-B B-C B-C B-C B-C con 10699200 soluciones\n",
            " * A-C A-C A-C B-B B-B B-B B-B B-B B-C C-C con  5217408 soluciones\n",
            " * A-C A-C A-C B-B B-B B-B B-B B-C B-C B-C con  4080960 soluciones\n",
            "Tipo de jornada con el máximo número de soluciones posibles:\n",
            "  A-B A-B A-C B-B B-B B-B B-C B-C B-C C-C\n",
            "  34841088 soluciones posibles\n"
          ]
        }
      ],
      "source": [
        "import collections\n",
        "import math\n",
        "\n",
        "def binomio(a,b):\n",
        "    return math.factorial(a)//(math.factorial(b)*math.factorial(a-b))\n",
        "def combinaciones_con_repeticion(slots, rep):\n",
        "    return binomio(slots+rep-1, rep)\n",
        "    \n",
        "def contar_soluciones(enunciado):\n",
        "    def contar_soluciones_eliminar(ec, key):\n",
        "        ec = dict(ec)\n",
        "        if ec[key] == 1:\n",
        "            del ec[key]\n",
        "        else:\n",
        "            ec[key] -= 1\n",
        "        return ec\n",
        "    # Contamos los tipos de jornadas\n",
        "    ec = dict(collections.Counter(e))\n",
        "    # Ponemos un tipo de partido el viernes\n",
        "    soluciones = 0\n",
        "    for key_v in ec.keys():\n",
        "        # Partidos a distribuir de sábado a lunes\n",
        "        ec_sl = contar_soluciones_eliminar(ec, key_v)\n",
        "        # Ponemos un tipo de partido el lunes\n",
        "        for key_l in ec_sl.keys():\n",
        "            # Partidos a distribuir de sábado a domingo\n",
        "            ec_sd = contar_soluciones_eliminar(ec_sl, key_l)\n",
        "            # Ahora es una solución de combutaciones con repetición y reemplazo\n",
        "            soluciones2 = 1\n",
        "            for key_sd,rep in ec_sd.items():\n",
        "                # Hay 8 posibles slots para colocar rep repeticiones de este tipo de partidos\n",
        "                # Es un problema de combinaciones con repeticion (que se reduce por simetría mucho)\n",
        "                soluciones2 *= combinaciones_con_repeticion(8, rep)\n",
        "            soluciones += soluciones2\n",
        "    return soluciones\n",
        "\n",
        "def enunciado_a_cadena(enunciado):\n",
        "    resultado = ''\n",
        "    for e in enunciado:\n",
        "        if len(resultado):\n",
        "            resultado += ' '\n",
        "        resultado += e\n",
        "    return resultado\n",
        "\n",
        "print(\"Soluciones posibles por tipo de jornada:\")\n",
        "num_soluciones={}\n",
        "peor_enunciado = None\n",
        "peor_soluciones = 0\n",
        "for e in enunciados:\n",
        "    soluciones = contar_soluciones(e)\n",
        "    num_soluciones[e] = soluciones\n",
        "    print(f\" * {enunciado_a_cadena(e)} con {soluciones:8d} soluciones\")\n",
        "    if soluciones > peor_soluciones:\n",
        "        peor_enunciado = e\n",
        "        peor_soluciones = soluciones\n",
        "    \n",
        "print(\"Tipo de jornada con el máximo número de soluciones posibles:\")\n",
        "print(f\"  {enunciado_a_cadena(peor_enunciado)}\")\n",
        "print(f\"  {peor_soluciones} soluciones posibles\")\n"
      ]
    },
    {
      "cell_type": "markdown",
      "metadata": {},
      "source": [
        "Se descubre que el enunciado más difícil de todos ellos tiene solo 34 millones de posibilidades. En este salen las máximas combinaciones porque tiene 5 tipos de partidos diferentes y el número de repeticiones de tipo de partido es más bajo que en el resto, de ahí que el número de soluciones con la misma audiencia garantizada por simetrías del problema se reduce menos que en el resto.\n",
        "\n",
        "El número es suficientemente bajo como para que se pueda calcular por fuerza bruta en un tiempo muy razonable.\n",
        "\n",
        "Tiene pinta que podemos llegar con garantías a la solución óptima de las 19 jornadas.\n",
        "\n",
        "Realmente el número de soluciones posibles son aún muchas menos, porque el slot de S20h y D20h tienen el mismo factor de corrección, así como el slot de V20h y L20h, por lo que estos slots son intercambiables siempre. Esta simetría no se ha explotado en los números arriba indicados."
      ]
    },
    {
      "cell_type": "markdown",
      "metadata": {
        "id": "dzynfVJahHoY"
      },
      "source": [
        "**Modelo para el espacio de soluciones**\n",
        "\n",
        "(*) **¿Cual es la estructura de datos que mejor se adapta al problema? Argumentalo.(Es posible que hayas elegido una al principio y veas la necesidad de cambiar, arguméntalo)**\n"
      ]
    },
    {
      "cell_type": "markdown",
      "metadata": {
        "id": "xFIJrOwKi2Ti"
      },
      "source": [
        "**Respuesta**"
      ]
    },
    {
      "cell_type": "code",
      "execution_count": null,
      "metadata": {
        "id": "38c-7-ejhJmA"
      },
      "outputs": [],
      "source": []
    },
    {
      "cell_type": "markdown",
      "metadata": {
        "id": "7Z9U2W7bi-XS"
      },
      "source": [
        "**Según el modelo para el espacio de soluciones**\n",
        "\n",
        "(*) **¿Cual es la función objetivo?**\n",
        "\n",
        "(*) **¿Es un problema de maximización o minimización?**"
      ]
    },
    {
      "cell_type": "markdown",
      "metadata": {
        "id": "hBalWLM7j1_d"
      },
      "source": [
        "**Respuesta**"
      ]
    },
    {
      "cell_type": "markdown",
      "metadata": {
        "id": "pDA-rg3Gj5Lz"
      },
      "source": [
        "La función objetivo es la audiencia total en base a las reglas dadas. Es un problema de maximización. \n",
        "\n",
        "No obstante, en la optimización de la velocidad de cálculo del algoritmo con ramificación y poda se ha trabajado por simplicidad con la \"audiencia perdida\". Suponiendo que el resultado de 0 es que la audiencia es el sumatorio de las audiencias totales. Esto simplifica la poda de ramas, porque si el resultado es peor que uno ya obtenido sin asignar todos los partidos, entonces no hace falta calcular más. La definición de la \"audiencia perdida\" es la suma de todas las audiencias por no asignar un partido en el mejor horario, o por la colisión de partidos. Este métrica es la que habría que minimizar llegado este caso."
      ]
    },
    {
      "cell_type": "markdown",
      "metadata": {
        "id": "rlnTYgY1j6I2"
      },
      "source": [
        "**Diseña un algoritmo para resolver el problema por fuerza bruta**"
      ]
    },
    {
      "cell_type": "markdown",
      "metadata": {
        "id": "70rDgxYXkC8r"
      },
      "source": [
        "**Respuesta**"
      ]
    },
    {
      "cell_type": "markdown",
      "metadata": {},
      "source": [
        "El truco de poder llegar a hacer la solución por fuerza bruta es utilizar todas las simetrías para no calcular todas las combinaciones de partidos posibles de la liga, sino todas las combinaciones posibles que den audiencias diferentes. Esto se debe a que muchos de los partidos son intercambiables entre sí y dado que son del mismo tipo se obtiene la misma audiencia. Trabajando correctamente con combinatoria el espacio de soluciones no es demasiado amplio y realizable perfectamente por fuerza bruta. Esto permite calcular la solución a un problema en un tiempo medio de unos 40s y en todo el espacio de soluciones en 12 minutos."
      ]
    },
    {
      "cell_type": "code",
      "execution_count": 3,
      "metadata": {
        "id": "CJb5sQ0qkENy"
      },
      "outputs": [
        {
          "name": "stdout",
          "output_type": "stream",
          "text": [
            "Soluciones mejores obtenidas por fuerza bruta:\n",
            " * A-A A-B B-B B-B B-B B-B B-B C-C C-C C-C: 7.1725 Millones\n",
            "   - V20:C-C S12:B-B S16:B-B S18:B-B S20:A-B D12:C-C D16:B-B D18:B-B D20:A-A L20:C-C\n",
            "   - V20:C-C S12:B-B S16:B-B S18:B-B S20:A-A D12:C-C D16:B-B D18:B-B D20:A-B L20:C-C\n",
            " * A-A A-B B-B B-B B-B B-B B-C B-C C-C C-C: 7.2160 Millones\n",
            "   - V20:C-C S12:B-C S16:B-B S18:B-B S20:A-B D12:B-C D16:B-B D18:B-B D20:A-A L20:C-C\n",
            "   - V20:C-C S12:B-C S16:B-B S18:B-B S20:A-A D12:B-C D16:B-B D18:B-B D20:A-B L20:C-C\n",
            " * A-A A-B B-B B-B B-B B-C B-C B-C B-C C-C: 7.2230 Millones\n",
            "   - V20:B-C S12:B-C S16:B-C S18:B-B S20:A-B D12:B-C D16:B-B D18:B-B D20:A-A L20:C-C\n",
            "   - V20:B-C S12:B-C S16:B-C S18:B-B S20:A-A D12:B-C D16:B-B D18:B-B D20:A-B L20:C-C\n",
            "   - V20:C-C S12:B-C S16:B-C S18:B-B S20:A-B D12:B-C D16:B-B D18:B-B D20:A-A L20:B-C\n",
            "   - V20:C-C S12:B-C S16:B-C S18:B-B S20:A-A D12:B-C D16:B-B D18:B-B D20:A-B L20:B-C\n",
            " * A-A A-B B-B B-B B-C B-C B-C B-C B-C B-C: 7.2225 Millones\n",
            "   - V20:B-C S12:B-C S16:B-C S18:B-B S20:A-B D12:B-C D16:B-C D18:B-B D20:A-A L20:B-C\n",
            "   - V20:B-C S12:B-C S16:B-C S18:B-B S20:A-A D12:B-C D16:B-C D18:B-B D20:A-B L20:B-C\n",
            " * A-A A-C B-B B-B B-B B-B B-B B-C C-C C-C: 7.0135 Millones\n",
            "   - V20:C-C S12:B-C S16:B-B S18:B-B S20:B-B,B-B D12:- D16:B-B D18:A-C D20:A-A L20:C-C\n",
            "   - V20:C-C S12:B-C S16:B-B S18:B-B S20:A-A D12:- D16:B-B D18:A-C D20:B-B,B-B L20:C-C\n",
            " * A-A A-C B-B B-B B-B B-B B-C B-C B-C C-C: 7.0280 Millones\n",
            "   - V20:B-C S12:B-C S16:B-B S18:B-B S20:A-C D12:B-C D16:B-B D18:B-B D20:A-A L20:C-C\n",
            "   - V20:B-C S12:B-C S16:B-B S18:B-B S20:A-A D12:B-C D16:B-B D18:B-B D20:A-C L20:C-C\n",
            "   - V20:C-C S12:B-C S16:B-B S18:B-B S20:A-C D12:B-C D16:B-B D18:B-B D20:A-A L20:B-C\n",
            "   - V20:C-C S12:B-C S16:B-B S18:B-B S20:A-A D12:B-C D16:B-B D18:B-B D20:A-C L20:B-C\n",
            " * A-A A-C B-B B-B B-B B-C B-C B-C B-C B-C: 7.0350 Millones\n",
            "   - V20:B-C S12:B-C S16:B-C S18:B-B S20:A-C D12:B-C D16:B-B D18:B-B D20:A-A L20:B-C\n",
            "   - V20:B-C S12:B-C S16:B-C S18:B-B S20:A-A D12:B-C D16:B-B D18:B-B D20:A-C L20:B-C\n",
            " * A-B A-B A-B B-B B-B B-B B-B C-C C-C C-C: 6.8125 Millones\n",
            "   - V20:C-C S12:B-B S16:B-B S18:B-B S20:A-B D12:C-C D16:B-B D18:A-B D20:A-B L20:C-C\n",
            " * A-B A-B A-B B-B B-B B-B B-C B-C C-C C-C: 6.8560 Millones\n",
            "   - V20:C-C S12:B-C S16:B-B S18:B-B S20:A-B D12:B-C D16:B-B D18:A-B D20:A-B L20:C-C\n",
            " * A-B A-B A-B B-B B-B B-C B-C B-C B-C C-C: 6.8630 Millones\n",
            "   - V20:B-C S12:B-C S16:B-C S18:B-B S20:A-B D12:B-C D16:B-B D18:A-B D20:A-B L20:C-C\n",
            "   - V20:C-C S12:B-C S16:B-C S18:B-B S20:A-B D12:B-C D16:B-B D18:A-B D20:A-B L20:B-C\n",
            " * A-B A-B A-B B-B B-C B-C B-C B-C B-C B-C: 6.8625 Millones\n",
            "   - V20:B-C S12:B-C S16:B-C S18:B-B S20:A-B D12:B-C D16:B-C D18:A-B D20:A-B L20:B-C\n",
            " * A-B A-B A-C B-B B-B B-B B-B B-C C-C C-C: 6.6835 Millones\n",
            "   - V20:C-C S12:B-B S16:B-B S18:B-B S20:A-B D12:B-C D16:B-B D18:A-C D20:A-B L20:C-C\n",
            " * A-B A-B A-C B-B B-B B-B B-C B-C B-C C-C: 6.7130 Millones\n",
            "   - V20:B-C S12:B-C S16:B-B S18:B-B S20:A-B D12:B-C D16:B-B D18:A-C D20:A-B L20:C-C\n",
            "   - V20:C-C S12:B-C S16:B-B S18:B-B S20:A-B D12:B-C D16:B-B D18:A-C D20:A-B L20:B-C\n",
            " * A-B A-B A-C B-B B-B B-C B-C B-C B-C B-C: 6.7200 Millones\n",
            "   - V20:B-C S12:B-C S16:B-C S18:B-B S20:A-B D12:B-C D16:B-B D18:A-C D20:A-B L20:B-C\n",
            " * A-B A-C A-C B-B B-B B-B B-B B-B C-C C-C: 6.4760 Millones\n",
            "   - V20:C-C S12:B-B S16:B-B S18:A-C S20:B-B,B-B D12:- D16:B-B D18:A-C D20:A-B L20:C-C\n",
            "   - V20:C-C S12:B-B S16:B-B S18:A-C S20:A-B D12:- D16:B-B D18:A-C D20:B-B,B-B L20:C-C\n",
            " * A-B A-C A-C B-B B-B B-B B-B B-C B-C C-C: 6.5055 Millones\n",
            "   - V20:B-C S12:B-C S16:B-B S18:A-C S20:B-B,B-B D12:- D16:B-B D18:A-C D20:A-B L20:C-C\n",
            "   - V20:B-C S12:B-C S16:B-B S18:A-C S20:A-B D12:- D16:B-B D18:A-C D20:B-B,B-B L20:C-C\n",
            "   - V20:C-C S12:B-C S16:B-B S18:A-C S20:B-B,B-B D12:- D16:B-B D18:A-C D20:A-B L20:B-C\n",
            "   - V20:C-C S12:B-C S16:B-B S18:A-C S20:A-B D12:- D16:B-B D18:A-C D20:B-B,B-B L20:B-C\n",
            " * A-B A-C A-C B-B B-B B-B B-C B-C B-C B-C: 6.5250 Millones\n",
            "   - V20:B-C S12:B-C S16:B-B S18:B-B S20:A-C D12:B-C D16:B-B D18:A-C D20:A-B L20:B-C\n",
            "   - V20:B-C S12:B-C S16:B-B S18:B-B S20:A-B D12:B-C D16:B-B D18:A-C D20:A-C L20:B-C\n",
            " * A-C A-C A-C B-B B-B B-B B-B B-B B-C C-C: 6.2880 Millones\n",
            "   - V20:B-C S12:B-B S16:B-B S18:A-C S20:B-B,B-B D12:- D16:B-B D18:A-C D20:A-C L20:C-C\n",
            "   - V20:B-C S12:B-B S16:B-B S18:A-C S20:A-C D12:- D16:B-B D18:A-C D20:B-B,B-B L20:C-C\n",
            "   - V20:C-C S12:B-B S16:B-B S18:A-C S20:B-B,B-B D12:- D16:B-B D18:A-C D20:A-C L20:B-C\n",
            "   - V20:C-C S12:B-B S16:B-B S18:A-C S20:A-C D12:- D16:B-B D18:A-C D20:B-B,B-B L20:B-C\n",
            " * A-C A-C A-C B-B B-B B-B B-B B-C B-C B-C: 6.3175 Millones\n",
            "   - V20:B-C S12:B-C S16:B-B S18:A-C S20:B-B,B-B D12:- D16:B-B D18:A-C D20:A-C L20:B-C\n",
            "   - V20:B-C S12:B-C S16:B-B S18:A-C S20:A-C D12:- D16:B-B D18:A-C D20:B-B,B-B L20:B-C\n"
          ]
        }
      ],
      "source": [
        "# Crea un objeto de combinaciones exactas de n elementos en 8 slots que vamos a utilizar todo el rato\n",
        "comb8=[]\n",
        "for rep in range(7):\n",
        "    pos = [0 for _ in range(rep)]\n",
        "    posend = [7 for _ in range(rep)]\n",
        "    comb8rep = []\n",
        "    while True:\n",
        "        comb8rep.append(tuple(pos))\n",
        "        if pos == posend:\n",
        "            break\n",
        "        for j in range(rep):\n",
        "            pos[j] += 1\n",
        "            if pos[j] < 8:\n",
        "                break\n",
        "        for j in reversed(range(rep)):\n",
        "            if pos[j] == 8:\n",
        "                pos[j] = pos[j+1]\n",
        "    assert(len(comb8rep) == combinaciones_con_repeticion(8,rep))\n",
        "    comb8.append(comb8rep)\n",
        "    \n",
        "# Función que obtiene la audiencia de una solucion\n",
        "audiencia_partido = {'A-A': 2, 'A-B': 1.3, 'B-B': 0.9, 'A-C': 1, 'B-C': 0.75, 'C-C': 0.47 }\n",
        "audiencia_slot = { 'V20': 0.4, 'S12': 0.55, 'S16': 0.7, 'S18': 0.8, 'S20': 1, 'D12': 0.45, 'D16': 0.75, 'D18': 0.85, 'D20': 1, 'L20': 0.4 }\n",
        "audiencia_simultaneidad = [ 1, 1, 0.75, 0.55, 0.4, 0.3, 0.25, 0.22, 0.2, 0.2 ]\n",
        "def audiencia(solucion):\n",
        "    resultado = 0\n",
        "    for slot,partidos in solucion.items():\n",
        "        resultado_slot = 0\n",
        "        for partido in partidos:\n",
        "            resultado_slot += audiencia_partido[partido]\n",
        "        resultado_slot *= audiencia_slot[slot]\n",
        "        resultado_slot *= audiencia_simultaneidad[len(partidos)]\n",
        "        resultado += resultado_slot\n",
        "    return resultado\n",
        "\n",
        "# Realiza la solución por fuerza bruta\n",
        "def soluciones_fuerza_bruta(enunciado):\n",
        "    # Elimina una entrada del enunciado\n",
        "    def enunciado_eliminar(ec, key):\n",
        "        ec = dict(ec)\n",
        "        if ec[key] == 1:\n",
        "            del ec[key]\n",
        "        else:\n",
        "            ec[key] -= 1\n",
        "        return ec    # Contamos los tipos de jornadas\n",
        "    # Contamos los tipos de jornadas\n",
        "    ec = dict(collections.Counter(enunciado))\n",
        "    # Ponemos un tipo de partido el viernes\n",
        "    for key_v in ec.keys():\n",
        "        # Partidos a distribuir de sábado a lunes\n",
        "        ec_sl = enunciado_eliminar(ec, key_v)\n",
        "        # Ponemos un tipo de partido el lunes\n",
        "        for key_l in ec_sl.keys():\n",
        "            # Partidos a distribuir entre sábado y domingo\n",
        "            ec_sd = enunciado_eliminar(ec_sl, key_l)\n",
        "            # Prepara las combinaciones\n",
        "            keys_sd = []\n",
        "            combs_sd = []\n",
        "            for key_sd, rep in ec_sd.items():\n",
        "                keys_sd.append(key_sd)\n",
        "                combs_sd.append(comb8[rep])\n",
        "            combinacion = [0 for _ in keys_sd]\n",
        "            # Reporta cada una de las combinaciones\n",
        "            while True:\n",
        "                # Crea la combinacion\n",
        "                slots=[[] for _ in range(8)]\n",
        "                for i in range(len(keys_sd)):\n",
        "                    key = keys_sd[i]\n",
        "                    for s in combs_sd[i][combinacion[i]]:\n",
        "                        slots[s].append(key)\n",
        "                # Distribuimos en todas las combinaciones en los 8 slots diferentes\n",
        "                yield {'V20': [key_v], 'S12': slots[0], 'S16': slots[1], 'S18': slots[2], 'S20': slots[3], \\\n",
        "                                       'D12': slots[4], 'D16': slots[5], 'D18': slots[6], 'D20': slots[7], \\\n",
        "                       'L20': [key_l]}\n",
        "                # Pasa a la siguiente combinacion\n",
        "                for i in range(len(keys_sd)):\n",
        "                    combinacion[i] += 1\n",
        "                    if combinacion[i] < len(combs_sd[i]):\n",
        "                        break\n",
        "                    combinacion[i] = 0\n",
        "                else:\n",
        "                    break\n",
        "                            \n",
        "# Valora cada solución de las soluciones de fuerza bruta y obtiene la mejor\n",
        "# Además comprobamos que el número de soluciones generado coincide con el predicho\n",
        "def solucion_fuerza_bruta(enunciado):\n",
        "    mejor_audiencia = 0\n",
        "    mejores_soluciones = None\n",
        "    n = 0\n",
        "    for s in soluciones_fuerza_bruta(enunciado):\n",
        "        a = audiencia(s)\n",
        "        if math.isclose(a, mejor_audiencia):\n",
        "            mejores_soluciones.append(s)\n",
        "        elif a > mejor_audiencia:\n",
        "            mejor_audiencia = a\n",
        "            mejores_soluciones = [s]\n",
        "        n += 1\n",
        "    assert(n == num_soluciones[enunciado])\n",
        "    return mejores_soluciones\n",
        "\n",
        "# Convierte la solucion en una cadena\n",
        "def solucion_a_cadena(solucion):\n",
        "    resultado = ''\n",
        "    for key, partidos in solucion.items():\n",
        "        if len(resultado):\n",
        "            resultado += ' '\n",
        "        resultado += key\n",
        "        resultado += ':'\n",
        "        if len(partidos):\n",
        "            primero = True\n",
        "            for partido in partidos:\n",
        "                if not primero:\n",
        "                    resultado += ','\n",
        "                resultado += partido\n",
        "                primero = False\n",
        "        else:\n",
        "            resultado += '-'\n",
        "    return resultado\n",
        "            \n",
        "print(\"Soluciones mejores obtenidas por fuerza bruta:\")\n",
        "for e in enunciados:\n",
        "    soluciones = solucion_fuerza_bruta(e)\n",
        "    print(f\" * {enunciado_a_cadena(e)}: {audiencia(soluciones[0]):.4f} Millones\")\n",
        "    for s in soluciones:\n",
        "        print(f\"   - {solucion_a_cadena(s)}\")\n",
        "        assert(math.isclose(audiencia(s), audiencia(soluciones[0])))"
      ]
    },
    {
      "cell_type": "markdown",
      "metadata": {},
      "source": [
        "Aún así, el algoritmo es optimizable aplicando mejoras en las técnicas de programación, todavía en fuerza bruta.\n",
        "Se han aplicado las siguientes mejoras:\n",
        "* Utilizar índices para los tipos de partidos en vez de diccionarios para todos los calculos intermedios.\n",
        "* Generación recursiva de las soluciones aprovecha cálculos intermedios.\n",
        "* Cálculo de la audiencia a la vez que se genera la jornada para reutilizar el cálculo de audiencia.\n",
        "* Reducción de las simetrías de L20 y V20, así como de S20 y D20.\n",
        "\n",
        "La nueva solución por fuerza bruta acelerada tarda 2m30 en obtener la solución óptima de todo el espacio de problemas (unos 8 segundos por cada enunciado). Sigue siendo de fuerza bruta, desde el punto de vista que itera sobre todas las posibles soluciones de audiencia de valor diferente para encontrar las óptimas."
      ]
    },
    {
      "cell_type": "code",
      "execution_count": 56,
      "metadata": {},
      "outputs": [
        {
          "name": "stdout",
          "output_type": "stream",
          "text": [
            "Soluciones mejores obtenidas por fuerza bruta optimizada:\n",
            " * A-A A-B B-B B-B B-B B-B B-B C-C C-C C-C: 7.1725 Millones\n",
            "   - V20:C-C S12:B-B S16:B-B S18:B-B S20:A-B D12:C-C D16:B-B D18:B-B D20:A-A L20:C-C\n",
            "   - V20:C-C S12:B-B S16:B-B S18:B-B S20:A-A D12:C-C D16:B-B D18:B-B D20:A-B L20:C-C\n",
            " * A-A A-B B-B B-B B-B B-B B-C B-C C-C C-C: 7.2160 Millones\n",
            "   - V20:C-C S12:B-C S16:B-B S18:B-B S20:A-B D12:B-C D16:B-B D18:B-B D20:A-A L20:C-C\n",
            "   - V20:C-C S12:B-C S16:B-B S18:B-B S20:A-A D12:B-C D16:B-B D18:B-B D20:A-B L20:C-C\n",
            " * A-A A-B B-B B-B B-B B-C B-C B-C B-C C-C: 7.2230 Millones\n",
            "   - V20:B-C S12:B-C S16:B-C S18:B-B S20:A-B D12:B-C D16:B-B D18:B-B D20:A-A L20:C-C\n",
            "   - V20:C-C S12:B-C S16:B-C S18:B-B S20:A-B D12:B-C D16:B-B D18:B-B D20:A-A L20:B-C\n",
            "   - V20:B-C S12:B-C S16:B-C S18:B-B S20:A-A D12:B-C D16:B-B D18:B-B D20:A-B L20:C-C\n",
            "   - V20:C-C S12:B-C S16:B-C S18:B-B S20:A-A D12:B-C D16:B-B D18:B-B D20:A-B L20:B-C\n",
            " * A-A A-B B-B B-B B-C B-C B-C B-C B-C B-C: 7.2225 Millones\n",
            "   - V20:B-C S12:B-C S16:B-C S18:B-B S20:A-B D12:B-C D16:B-C D18:B-B D20:A-A L20:B-C\n",
            "   - V20:B-C S12:B-C S16:B-C S18:B-B S20:A-A D12:B-C D16:B-C D18:B-B D20:A-B L20:B-C\n",
            " * A-A A-C B-B B-B B-B B-B B-B B-C C-C C-C: 7.0135 Millones\n",
            "   - V20:C-C S12:B-C S16:B-B S18:B-B S20:B-B,B-B D12:- D16:B-B D18:A-C D20:A-A L20:C-C\n",
            "   - V20:C-C S12:B-C S16:B-B S18:B-B S20:A-A D12:- D16:B-B D18:A-C D20:B-B,B-B L20:C-C\n",
            " * A-A A-C B-B B-B B-B B-B B-C B-C B-C C-C: 7.0280 Millones\n",
            "   - V20:B-C S12:B-C S16:B-B S18:B-B S20:A-C D12:B-C D16:B-B D18:B-B D20:A-A L20:C-C\n",
            "   - V20:C-C S12:B-C S16:B-B S18:B-B S20:A-C D12:B-C D16:B-B D18:B-B D20:A-A L20:B-C\n",
            "   - V20:B-C S12:B-C S16:B-B S18:B-B S20:A-A D12:B-C D16:B-B D18:B-B D20:A-C L20:C-C\n",
            "   - V20:C-C S12:B-C S16:B-B S18:B-B S20:A-A D12:B-C D16:B-B D18:B-B D20:A-C L20:B-C\n",
            " * A-A A-C B-B B-B B-B B-C B-C B-C B-C B-C: 7.0350 Millones\n",
            "   - V20:B-C S12:B-C S16:B-C S18:B-B S20:A-C D12:B-C D16:B-B D18:B-B D20:A-A L20:B-C\n",
            "   - V20:B-C S12:B-C S16:B-C S18:B-B S20:A-A D12:B-C D16:B-B D18:B-B D20:A-C L20:B-C\n",
            " * A-B A-B A-B B-B B-B B-B B-B C-C C-C C-C: 6.8125 Millones\n",
            "   - V20:C-C S12:B-B S16:B-B S18:B-B S20:A-B D12:C-C D16:B-B D18:A-B D20:A-B L20:C-C\n",
            " * A-B A-B A-B B-B B-B B-B B-C B-C C-C C-C: 6.8560 Millones\n",
            "   - V20:C-C S12:B-C S16:B-B S18:B-B S20:A-B D12:B-C D16:B-B D18:A-B D20:A-B L20:C-C\n",
            " * A-B A-B A-B B-B B-B B-C B-C B-C B-C C-C: 6.8630 Millones\n",
            "   - V20:B-C S12:B-C S16:B-C S18:B-B S20:A-B D12:B-C D16:B-B D18:A-B D20:A-B L20:C-C\n",
            "   - V20:C-C S12:B-C S16:B-C S18:B-B S20:A-B D12:B-C D16:B-B D18:A-B D20:A-B L20:B-C\n",
            " * A-B A-B A-B B-B B-C B-C B-C B-C B-C B-C: 6.8625 Millones\n",
            "   - V20:B-C S12:B-C S16:B-C S18:B-B S20:A-B D12:B-C D16:B-C D18:A-B D20:A-B L20:B-C\n",
            " * A-B A-B A-C B-B B-B B-B B-B B-C C-C C-C: 6.6835 Millones\n",
            "   - V20:C-C S12:B-B S16:B-B S18:B-B S20:A-B D12:B-C D16:B-B D18:A-C D20:A-B L20:C-C\n",
            " * A-B A-B A-C B-B B-B B-B B-C B-C B-C C-C: 6.7130 Millones\n",
            "   - V20:B-C S12:B-C S16:B-B S18:B-B S20:A-B D12:B-C D16:B-B D18:A-C D20:A-B L20:C-C\n",
            "   - V20:C-C S12:B-C S16:B-B S18:B-B S20:A-B D12:B-C D16:B-B D18:A-C D20:A-B L20:B-C\n",
            " * A-B A-B A-C B-B B-B B-C B-C B-C B-C B-C: 6.7200 Millones\n",
            "   - V20:B-C S12:B-C S16:B-C S18:B-B S20:A-B D12:B-C D16:B-B D18:A-C D20:A-B L20:B-C\n",
            " * A-B A-C A-C B-B B-B B-B B-B B-B C-C C-C: 6.4760 Millones\n",
            "   - V20:C-C S12:B-B S16:B-B S18:A-C S20:B-B,B-B D12:- D16:B-B D18:A-C D20:A-B L20:C-C\n",
            "   - V20:C-C S12:B-B S16:B-B S18:A-C S20:A-B D12:- D16:B-B D18:A-C D20:B-B,B-B L20:C-C\n",
            " * A-B A-C A-C B-B B-B B-B B-B B-C B-C C-C: 6.5055 Millones\n",
            "   - V20:B-C S12:B-C S16:B-B S18:A-C S20:B-B,B-B D12:- D16:B-B D18:A-C D20:A-B L20:C-C\n",
            "   - V20:C-C S12:B-C S16:B-B S18:A-C S20:B-B,B-B D12:- D16:B-B D18:A-C D20:A-B L20:B-C\n",
            "   - V20:B-C S12:B-C S16:B-B S18:A-C S20:A-B D12:- D16:B-B D18:A-C D20:B-B,B-B L20:C-C\n",
            "   - V20:C-C S12:B-C S16:B-B S18:A-C S20:A-B D12:- D16:B-B D18:A-C D20:B-B,B-B L20:B-C\n",
            " * A-B A-C A-C B-B B-B B-B B-C B-C B-C B-C: 6.5250 Millones\n",
            "   - V20:B-C S12:B-C S16:B-B S18:B-B S20:A-C D12:B-C D16:B-B D18:A-C D20:A-B L20:B-C\n",
            "   - V20:B-C S12:B-C S16:B-B S18:B-B S20:A-B D12:B-C D16:B-B D18:A-C D20:A-C L20:B-C\n",
            " * A-C A-C A-C B-B B-B B-B B-B B-B B-C C-C: 6.2880 Millones\n",
            "   - V20:B-C S12:B-B S16:B-B S18:A-C S20:A-C D12:- D16:B-B D18:A-C D20:B-B,B-B L20:C-C\n",
            "   - V20:C-C S12:B-B S16:B-B S18:A-C S20:A-C D12:- D16:B-B D18:A-C D20:B-B,B-B L20:B-C\n",
            "   - V20:B-C S12:B-B S16:B-B S18:A-C S20:B-B,B-B D12:- D16:B-B D18:A-C D20:A-C L20:C-C\n",
            "   - V20:C-C S12:B-B S16:B-B S18:A-C S20:B-B,B-B D12:- D16:B-B D18:A-C D20:A-C L20:B-C\n",
            " * A-C A-C A-C B-B B-B B-B B-B B-C B-C B-C: 6.3175 Millones\n",
            "   - V20:B-C S12:B-C S16:B-B S18:A-C S20:A-C D12:- D16:B-B D18:A-C D20:B-B,B-B L20:B-C\n",
            "   - V20:B-C S12:B-C S16:B-B S18:A-C S20:B-B,B-B D12:- D16:B-B D18:A-C D20:A-C L20:B-C\n"
          ]
        }
      ],
      "source": [
        "# Convierte un partido a indice\n",
        "partido_a_indice = {'A-A': 0, 'A-B': 1, 'B-B': 2, 'A-C': 3, 'B-C': 4, 'C-C': 5}\n",
        "indice_a_partido = ['A-A', 'A-B', 'B-B', 'A-C', 'B-C', 'C-C']\n",
        "slot_a_indice = { 'V20': 0, 'S12': 1, 'S16': 2, 'S18': 3, 'S20': 4, 'D12': 5, 'D16': 6, 'D18': 7, 'D20': 8, 'L20': 9 }\n",
        "indice_a_slot = [ 'V20', 'S12', 'S16', 'S18', 'S20', 'D12', 'D16', 'D18', 'D20', 'L20' ]\n",
        "audiencia_indice_partido = [ 2, 1.3, 0.9, 1, 0.75, 0.47 ]\n",
        "audiencia_indice_slot = [ 0.4, 0.55, 0.7, 0.8, 1, 0.45, 0.75, 0.85, 1, 0.4 ]\n",
        "\n",
        "# Función que convierte un enunciado a indices\n",
        "def enunciado_a_indices(enunciado):\n",
        "    return tuple(partido_a_indice[e] for e in enunciado)\n",
        "\n",
        "\n",
        "# Función para convertir los indices a soluciones\n",
        "def indices_a_solucion(solucion_indice):\n",
        "    resultado = {}\n",
        "    for i in range(len(solucion_indice)):\n",
        "        resultado[indice_a_slot[i]] = [indice_a_partido[p] for p in solucion_indice[i]]\n",
        "    return resultado\n",
        "def indices_a_soluciones(solucion_indice):\n",
        "    resultado = indices_a_solucion(solucion_indice)\n",
        "    reslist = [resultado]\n",
        "    if resultado['V20'] != resultado['L20']:\n",
        "        resultado2 = resultado.copy()\n",
        "        resultado2['L20'] = resultado['V20']\n",
        "        resultado2['V20'] = resultado['L20']\n",
        "        reslist.append(resultado2)\n",
        "    if resultado['S20'] != resultado['D20']:\n",
        "        resultado2 = resultado.copy()\n",
        "        resultado2['S20'] = resultado['D20']\n",
        "        resultado2['D20'] = resultado['S20']\n",
        "        reslist.append(resultado2)\n",
        "    if resultado['S20'] != resultado['D20'] and resultado['V20'] != resultado['L20']:\n",
        "        resultado2 = resultado.copy()\n",
        "        resultado2['L20'] = resultado['V20']\n",
        "        resultado2['V20'] = resultado['L20']\n",
        "        resultado2['S20'] = resultado['D20']\n",
        "        resultado2['D20'] = resultado['S20']\n",
        "        reslist.append(resultado2)\n",
        "    return reslist\n",
        "\n",
        "# Obtiene el número de soluciones representados por una solución en índices canónica\n",
        "def indices_a_soluciones_num(solucion_indice):\n",
        "    soluciones = 1\n",
        "    if solucion_indice[0] != solucion_indice[-1]:\n",
        "        soluciones *= 2\n",
        "    if solucion_indice[4] != solucion_indice[8]:\n",
        "        soluciones *= 2\n",
        "    return soluciones\n",
        "\n",
        "# Realiza la solución por fuerza bruta\n",
        "def soluciones_fuerza_bruta_indice(enunciado):\n",
        "    def recursiva(slot,audiencia,keys,numbers,index=0,pos=1):\n",
        "        # Go for the next type of data\n",
        "        if numbers[index] == 0:\n",
        "            index+=1\n",
        "            pos = 1\n",
        "            if index == len(numbers):\n",
        "                # Aceleración porque el factor de S20 y D20 es el mismo\n",
        "                if slot[4] >= slot[8]:\n",
        "                    a = 0\n",
        "                    for i in range(len(audiencia)):\n",
        "                        a += audiencia[i]*audiencia_simultaneidad[len(slot[i])]\n",
        "                    yield [slot, a]\n",
        "                return\n",
        "        # Place the next element\n",
        "        partido = keys[index]\n",
        "        partido_audiencia = audiencia_indice_partido[partido]\n",
        "        for p in range(pos, 9):\n",
        "            slot[p].append(partido)\n",
        "            prev_audiencia = audiencia[p]\n",
        "            audiencia[p] += partido_audiencia * audiencia_indice_slot[p]\n",
        "            numbers[index] -= 1\n",
        "            yield from recursiva(slot, audiencia, keys, numbers, index, p)\n",
        "            del slot[p][-1]\n",
        "            numbers[index] += 1\n",
        "            audiencia[p] = prev_audiencia\n",
        "    # Convierte el enunciado a su versión indixada\n",
        "    enunciado = enunciado_a_indices(enunciado)\n",
        "    # Elimina una entrada del enunciado\n",
        "    def enunciado_eliminar(ec, key):\n",
        "        ec = dict(ec)\n",
        "        if ec[key] == 1:\n",
        "            del ec[key]\n",
        "        else:\n",
        "            ec[key] -= 1\n",
        "        return ec    # Contamos los tipos de jornadas\n",
        "    # Contamos los tipos de jornadas\n",
        "    ec = dict(collections.Counter(enunciado))\n",
        "    # Ponemos un tipo de partido el viernes\n",
        "    for key_v in ec.keys():\n",
        "        # Partidos a distribuir de sábado a lunes\n",
        "        ec_sl = enunciado_eliminar(ec, key_v)\n",
        "        # Ponemos un tipo de partido el lunes\n",
        "        for key_l in ec_sl.keys():\n",
        "            # Aceleración porque el L20 y V20 tienen el mismo factor\n",
        "            if key_l < key_v:\n",
        "                continue\n",
        "            # Partidos a distribuir entre sábado y domingo\n",
        "            slot = [[key_v],[],[],[],[],[],[],[],[],[key_l]]\n",
        "            audiencia = [audiencia_indice_partido[key_v]*audiencia_indice_slot[0],\\\n",
        "                         0,0,0,0,0,0,0,0,\\\n",
        "                         audiencia_indice_partido[key_l]*audiencia_indice_slot[9]]\n",
        "            ec_sd = enunciado_eliminar(ec_sl, key_l)\n",
        "            keys=list(ec_sd.keys())\n",
        "            numbers=[ec_sd[k] for k in keys]\n",
        "            yield from recursiva(slot, audiencia, keys, numbers)\n",
        "                \n",
        "# Valora cada solución de las soluciones de fuerza bruta y obtiene la mejor\n",
        "# Además comprobamos que el número de soluciones generado coincide con el predicho\n",
        "# (Utilizamos la versión indexada)\n",
        "def solucion_fuerza_bruta(enunciado):\n",
        "    mejor_audiencia = 0\n",
        "    mejores_soluciones = None\n",
        "    n = 0\n",
        "    for s,a in soluciones_fuerza_bruta_indice(enunciado):\n",
        "        if math.isclose(a, mejor_audiencia):\n",
        "            mejores_soluciones += indices_a_soluciones(s)\n",
        "            #assert(math.isclose(mejor_audiencia, audiencia(mejores_soluciones[-1])))\n",
        "        elif a > mejor_audiencia:\n",
        "            mejor_audiencia = a\n",
        "            mejores_soluciones = indices_a_soluciones(s)\n",
        "            #assert(math.isclose(mejor_audiencia, audiencia(mejores_soluciones[-1])))\n",
        "        n += indices_a_soluciones_num(s)\n",
        "    assert(n == num_soluciones[enunciado])\n",
        "    return mejores_soluciones\n",
        "\n",
        "print(\"Soluciones mejores obtenidas por fuerza bruta optimizada:\")\n",
        "for e in enunciados:\n",
        "    soluciones = solucion_fuerza_bruta(e)\n",
        "    print(f\" * {enunciado_a_cadena(e)}: {audiencia(soluciones[0]):.4f} Millones\")\n",
        "    for s in soluciones:\n",
        "        print(f\"   - {solucion_a_cadena(s)}\")\n",
        "        assert(math.isclose(audiencia(s), audiencia(soluciones[0])))"
      ]
    },
    {
      "cell_type": "markdown",
      "metadata": {
        "id": "tgrnsC2nkFa8"
      },
      "source": [
        "Calcula la complejidad del algoritmo por fuerza bruta"
      ]
    },
    {
      "cell_type": "markdown",
      "metadata": {
        "id": "9eUd3xwckP68"
      },
      "source": [
        "**Respuesta**"
      ]
    },
    {
      "cell_type": "markdown",
      "metadata": {
        "id": "rvZWwL-ckRST"
      },
      "source": [
        "No queda muy bien claro la magnitud que tiene a infinito en el cálculo de complejidad de big $O$. Haremos diferentes suposiciones. Para este análisis supondremos $n$ es el número de partidos tendiendo a infinito y mantenemos fijos el número de slots y la clasificiación de equipos en A, B y C.\n",
        "\n",
        "El algoritmo de fuerza bruta aparentemente parece que debe tener una complejidad de $n$ partidos a repartir en 10 slots diferentes, por lo que será de $10^{n}$. Por lo que nos encontraríamos con un problema exponencial $O(e^n)$.\n",
        "\n",
        "La realidad es que el hecho de que haya solo 6 tipos de partidos simplifica el problema muchísimo, porque los partidos se repiten entre sí, reduciendo muchisimo las posibildiades. Supondremos que cada uno de los 6 tipos de partidos en una jornada tienen $n_1$, $n_2$, $n_3$, $n_4$, $n_5$ y $n_6$ partidos respectivamente. Por simplificidad supondremos que todos ellos crecen a infinito de forma proporcional a $n$. Todos los partidos se reparten en los 8 slots de sábado y domingo, excepto 2 de ellos.\n",
        "\n",
        "Como el número de combinaciones de 6 tipos de elementos en lunes y viernes (siendo dos únicos slots de un único partido) es un número finito. Esto implica una constante multiplicativa adicional, que para el cálculo de complejidad descartaremos.\n",
        "\n",
        "Teniendo en cuento que es son combinaciones de elemento repetidos, esto hace que las combinaciones finales sean proprocionales a: $\\prod_{i=1}^{6}{\\binom{7+n_i}{n_i}}$\n",
        "\n",
        "Se puede demostrar que $\\binom{7+n_i}{n_i}$ es proporcional a $n_i^7$ cuando $n_i$ tiende a infinito. Teniendo en cuenta que $n_i$ es proporcional a $n$ Y teniendo en cuenta el productorio, la complejidad será $O(n^{42})$. En general siendo $k$ un número finito de slots de tiempo de libre distribución y $m$ un número de tipo de partidos, acaba resultado ser un problema $O(n^{(k-1)m})$.\n",
        "\n",
        "Por lo que el problema deja de ser exponencial y pasa a ser polinomial. En este caso se ha podido resolver por fuerza bruta porque los números $n_i$ son extremadamente pequeños (al fin y al cabo suman 10 entre los 6 tipos de partidos), por lo que la complejidad es extremadamente baja, por resultar un problema polinomial de un número bajo de elementos.\n",
        "\n",
        "Nótese que lo que ha convertido el problema en un problema polinomial, en vez de exponencial es que a pesar del número de partidos tender a infinito, los hemos seguido clasificando en 6 tipos de partidos. Si a su vez, la clasificación de partidos fuera en un número infinito de tipos de partidos, el problema volvería a ser exponencial."
      ]
    },
    {
      "cell_type": "markdown",
      "metadata": {
        "id": "txbrmLmskReM"
      },
      "source": [
        "(*) **Diseña un algoritmo que mejore la complejidad del algortimo por fuerza bruta. Argumenta porque crees que mejora el algoritmo por fuerza bruta**"
      ]
    },
    {
      "cell_type": "markdown",
      "metadata": {
        "id": "hLrVwt5QkZPD"
      },
      "source": [
        "**Respuesta**"
      ]
    },
    {
      "cell_type": "markdown",
      "metadata": {},
      "source": [
        "Ya hemos encontrado todas las soluciones óptimas de todo el espacio de problemas posibles con un algoritmo de fuerza bruta en menos de 3 minutos, tardando menos de 10 segundos por problema planteado de media. Se nos pide mejorar la solución, para ello solo cabe reemplazar el algoritmo por uno igualmente eficaz, que garantice entontrar todas las soluciones óptimas, pero en un tiempo mucho menor.\n",
        "\n",
        "Para ello, descartamos algoritmos heurísticos porque perderíamos la garantía de obtener todas las soluciones óptimas, cosa que dado que el problema es bastante pequeño es interesante mantener. Por ello nos decantamos por realizar una ramificación y poda, de forma que no evaluemos todas las soluciones del problema, sino solo aquellas que son susceptibles de ser las mejores con el conocimiento adquirido. El objetivo es poder encontrar todas las soluciones óptimas del problema con garantías pero en unos pocos segundos.\n",
        "\n",
        "Se ha implementado el algoritmo de ramificación y poda, partiendo de ir por las ramas más probables. De esta forma, el algoritmo empezará asignando los partidos de menos audiencia a lunes y viernes, además empezará distribuyendo los partidos más probables primero y poda cuando con el resto de los partidos es imposible alcanzar el máximo. De esta forma, el algoritmo encuentra de forma muy rápida una solución myy buena, y continúa probando todas las soluciones que no se puedan podar (que no se puedan preveer como peores). De esta forma es extramadamente rápido y ofrece garantías de encontrar todas las soluciones óptimas.\n",
        "\n",
        "El algoritmo tarda 3.1s en encontrar todas las soluciones del óptimas del espacio completo de problemas. Tarda 160ms de media en encontrar todas las soluciones para una jornada dada."
      ]
    },
    {
      "cell_type": "code",
      "execution_count": 84,
      "metadata": {
        "id": "m1eyM21Vkabg"
      },
      "outputs": [
        {
          "name": "stdout",
          "output_type": "stream",
          "text": [
            "Soluciones mejores obtenidas por ramificacion y poda:\n",
            " * A-A A-B B-B B-B B-B B-B B-B C-C C-C C-C: 7.1725 Millones\n",
            "   - V20:C-C S12:B-B S16:B-B S18:B-B S20:A-A D12:C-C D16:B-B D18:B-B D20:A-B L20:C-C\n",
            "   - V20:C-C S12:B-B S16:B-B S18:B-B S20:A-B D12:C-C D16:B-B D18:B-B D20:A-A L20:C-C\n",
            " * A-A A-B B-B B-B B-B B-B B-C B-C C-C C-C: 7.2160 Millones\n",
            "   - V20:C-C S12:B-C S16:B-B S18:B-B S20:A-A D12:B-C D16:B-B D18:B-B D20:A-B L20:C-C\n",
            "   - V20:C-C S12:B-C S16:B-B S18:B-B S20:A-B D12:B-C D16:B-B D18:B-B D20:A-A L20:C-C\n",
            " * A-A A-B B-B B-B B-B B-C B-C B-C B-C C-C: 7.2230 Millones\n",
            "   - V20:C-C S12:B-C S16:B-C S18:B-B S20:A-A D12:B-C D16:B-B D18:B-B D20:A-B L20:B-C\n",
            "   - V20:C-C S12:B-C S16:B-C S18:B-B S20:A-B D12:B-C D16:B-B D18:B-B D20:A-A L20:B-C\n",
            "   - V20:B-C S12:B-C S16:B-C S18:B-B S20:A-A D12:B-C D16:B-B D18:B-B D20:A-B L20:C-C\n",
            "   - V20:B-C S12:B-C S16:B-C S18:B-B S20:A-B D12:B-C D16:B-B D18:B-B D20:A-A L20:C-C\n",
            " * A-A A-B B-B B-B B-C B-C B-C B-C B-C B-C: 7.2225 Millones\n",
            "   - V20:B-C S12:B-C S16:B-C S18:B-B S20:A-A D12:B-C D16:B-C D18:B-B D20:A-B L20:B-C\n",
            "   - V20:B-C S12:B-C S16:B-C S18:B-B S20:A-B D12:B-C D16:B-C D18:B-B D20:A-A L20:B-C\n",
            " * A-A A-C B-B B-B B-B B-B B-B B-C C-C C-C: 7.0135 Millones\n",
            "   - V20:C-C S12:B-C S16:B-B S18:B-B S20:A-A D12:- D16:B-B D18:A-C D20:B-B,B-B L20:C-C\n",
            "   - V20:C-C S12:B-C S16:B-B S18:B-B S20:B-B,B-B D12:- D16:B-B D18:A-C D20:A-A L20:C-C\n",
            " * A-A A-C B-B B-B B-B B-B B-C B-C B-C C-C: 7.0280 Millones\n",
            "   - V20:C-C S12:B-C S16:B-B S18:B-B S20:A-A D12:B-C D16:B-B D18:B-B D20:A-C L20:B-C\n",
            "   - V20:C-C S12:B-C S16:B-B S18:B-B S20:A-C D12:B-C D16:B-B D18:B-B D20:A-A L20:B-C\n",
            "   - V20:B-C S12:B-C S16:B-B S18:B-B S20:A-A D12:B-C D16:B-B D18:B-B D20:A-C L20:C-C\n",
            "   - V20:B-C S12:B-C S16:B-B S18:B-B S20:A-C D12:B-C D16:B-B D18:B-B D20:A-A L20:C-C\n",
            " * A-A A-C B-B B-B B-B B-C B-C B-C B-C B-C: 7.0350 Millones\n",
            "   - V20:B-C S12:B-C S16:B-C S18:B-B S20:A-A D12:B-C D16:B-B D18:B-B D20:A-C L20:B-C\n",
            "   - V20:B-C S12:B-C S16:B-C S18:B-B S20:A-C D12:B-C D16:B-B D18:B-B D20:A-A L20:B-C\n",
            " * A-B A-B A-B B-B B-B B-B B-B C-C C-C C-C: 6.8125 Millones\n",
            "   - V20:C-C S12:B-B S16:B-B S18:B-B S20:A-B D12:C-C D16:B-B D18:A-B D20:A-B L20:C-C\n",
            " * A-B A-B A-B B-B B-B B-B B-C B-C C-C C-C: 6.8560 Millones\n",
            "   - V20:C-C S12:B-C S16:B-B S18:B-B S20:A-B D12:B-C D16:B-B D18:A-B D20:A-B L20:C-C\n",
            " * A-B A-B A-B B-B B-B B-C B-C B-C B-C C-C: 6.8630 Millones\n",
            "   - V20:C-C S12:B-C S16:B-C S18:B-B S20:A-B D12:B-C D16:B-B D18:A-B D20:A-B L20:B-C\n",
            "   - V20:B-C S12:B-C S16:B-C S18:B-B S20:A-B D12:B-C D16:B-B D18:A-B D20:A-B L20:C-C\n",
            " * A-B A-B A-B B-B B-C B-C B-C B-C B-C B-C: 6.8625 Millones\n",
            "   - V20:B-C S12:B-C S16:B-C S18:B-B S20:A-B D12:B-C D16:B-C D18:A-B D20:A-B L20:B-C\n",
            " * A-B A-B A-C B-B B-B B-B B-B B-C C-C C-C: 6.6835 Millones\n",
            "   - V20:C-C S12:B-B S16:B-B S18:B-B S20:A-B D12:B-C D16:B-B D18:A-C D20:A-B L20:C-C\n",
            " * A-B A-B A-C B-B B-B B-B B-C B-C B-C C-C: 6.7130 Millones\n",
            "   - V20:C-C S12:B-C S16:B-B S18:B-B S20:A-B D12:B-C D16:B-B D18:A-C D20:A-B L20:B-C\n",
            "   - V20:B-C S12:B-C S16:B-B S18:B-B S20:A-B D12:B-C D16:B-B D18:A-C D20:A-B L20:C-C\n",
            " * A-B A-B A-C B-B B-B B-C B-C B-C B-C B-C: 6.7200 Millones\n",
            "   - V20:B-C S12:B-C S16:B-C S18:B-B S20:A-B D12:B-C D16:B-B D18:A-C D20:A-B L20:B-C\n",
            " * A-B A-C A-C B-B B-B B-B B-B B-B C-C C-C: 6.4760 Millones\n",
            "   - V20:C-C S12:B-B S16:B-B S18:A-C S20:A-B D12:- D16:B-B D18:A-C D20:B-B,B-B L20:C-C\n",
            "   - V20:C-C S12:B-B S16:B-B S18:A-C S20:B-B,B-B D12:- D16:B-B D18:A-C D20:A-B L20:C-C\n",
            " * A-B A-C A-C B-B B-B B-B B-B B-C B-C C-C: 6.5055 Millones\n",
            "   - V20:C-C S12:B-C S16:B-B S18:A-C S20:A-B D12:- D16:B-B D18:A-C D20:B-B,B-B L20:B-C\n",
            "   - V20:C-C S12:B-C S16:B-B S18:A-C S20:B-B,B-B D12:- D16:B-B D18:A-C D20:A-B L20:B-C\n",
            "   - V20:B-C S12:B-C S16:B-B S18:A-C S20:A-B D12:- D16:B-B D18:A-C D20:B-B,B-B L20:C-C\n",
            "   - V20:B-C S12:B-C S16:B-B S18:A-C S20:B-B,B-B D12:- D16:B-B D18:A-C D20:A-B L20:C-C\n",
            " * A-B A-C A-C B-B B-B B-B B-C B-C B-C B-C: 6.5250 Millones\n",
            "   - V20:B-C S12:B-C S16:B-B S18:B-B S20:A-B D12:B-C D16:B-B D18:A-C D20:A-C L20:B-C\n",
            "   - V20:B-C S12:B-C S16:B-B S18:B-B S20:A-C D12:B-C D16:B-B D18:A-C D20:A-B L20:B-C\n",
            " * A-C A-C A-C B-B B-B B-B B-B B-B B-C C-C: 6.2880 Millones\n",
            "   - V20:C-C S12:B-B S16:B-B S18:A-C S20:B-B,B-B D12:- D16:B-B D18:A-C D20:A-C L20:B-C\n",
            "   - V20:B-C S12:B-B S16:B-B S18:A-C S20:B-B,B-B D12:- D16:B-B D18:A-C D20:A-C L20:C-C\n",
            " * A-C A-C A-C B-B B-B B-B B-B B-C B-C B-C: 6.3175 Millones\n",
            "   - V20:B-C S12:B-C S16:B-B S18:A-C S20:B-B,B-B D12:- D16:B-B D18:A-C D20:A-C L20:B-C\n"
          ]
        }
      ],
      "source": [
        "import copy\n",
        "\n",
        "# Realiza la solución por fuerza bruta\n",
        "def solucion_poda(enunciado):\n",
        "    def recursiva(slot,audiencia,mejor_audiencia,keys,numbers,index=0,pos=1):\n",
        "        # Pasa al siguiente dato disponible\n",
        "        if numbers[index] == 0:\n",
        "            index+=1\n",
        "            pos = 1\n",
        "            if index == len(numbers):\n",
        "                a = 0\n",
        "                for i in range(len(audiencia)):\n",
        "                    a += audiencia[i]*audiencia_simultaneidad[len(slot[i])]\n",
        "                if math.isclose(a, mejor_audiencia) or a > mejor_audiencia:\n",
        "                    yield [slot, a]\n",
        "                return\n",
        "        # Realiza la poda si es posible calculando una cota de la máxima\n",
        "        # audiencia alcanzable desde la posición actual y ver si no podría\n",
        "        # llegar a mejorar la audiencia mejor conocida, pues abortamos misión\n",
        "        a = 0\n",
        "        for i in range(len(audiencia)):\n",
        "            a += audiencia[i]*audiencia_simultaneidad[len(slot[i])]\n",
        "        maxfactor = 0\n",
        "        for i in range(pos, 9):\n",
        "            factor = audiencia_indice_slot[i]*audiencia_simultaneidad[len(slot[i])+1]\n",
        "            if factor > maxfactor:\n",
        "                maxfactor = factor\n",
        "        for i in range(index, len(keys)):\n",
        "            a += audiencia_indice_partido[keys[i]]*numbers[i]*maxfactor\n",
        "        if a < mejor_audiencia:\n",
        "            return\n",
        "        # Coloca el siguiente elemento en uno de los slots, los ordena por slots\n",
        "        # más probables a menos probables (los libres y que tengan un factor mayor)\n",
        "        partido = keys[index]\n",
        "        partido_audiencia = audiencia_indice_partido[partido]\n",
        "        #slot_list = [(len(slot[i]),-audiencia_indice_slot[i],i) for i in range(pos,9)]\n",
        "        for p in range(pos,9):\n",
        "            # Añade el elemento en su posición\n",
        "            slot[p].append(partido)\n",
        "            prev_audiencia = audiencia[p]\n",
        "            audiencia[p] += partido_audiencia * audiencia_indice_slot[p]\n",
        "            numbers[index] -= 1\n",
        "            # Opera recursivamente\n",
        "            for solucion in recursiva(slot, audiencia, mejor_audiencia, keys, numbers, index, p):\n",
        "                if math.isclose(solucion[1], mejor_audiencia) or solucion[1] > mejor_audiencia:\n",
        "                    yield solucion\n",
        "                    if solucion[1] > mejor_audiencia:\n",
        "                        mejor_audiencia = solucion[1]\n",
        "            # Quita el elemento de la posición\n",
        "            del slot[p][-1]\n",
        "            numbers[index] += 1\n",
        "            audiencia[p] = prev_audiencia\n",
        "    # Convierte el enunciado a su versión indixada\n",
        "    enunciado = enunciado_a_indices(enunciado)\n",
        "    # Elimina una entrada del enunciado\n",
        "    def enunciado_eliminar(ec, key):\n",
        "        ec = dict(ec)\n",
        "        if ec[key] == 1:\n",
        "            del ec[key]\n",
        "        else:\n",
        "            ec[key] -= 1\n",
        "        return ec    # Contamos los tipos de jornadas\n",
        "    # Contamos los tipos de jornadas\n",
        "    ec = dict(collections.Counter(enunciado))\n",
        "    # Ponemos un tipo de partido el viernes\n",
        "    solucion = [[], 0]\n",
        "    for key_v in sorted(ec.keys(),reverse=True):\n",
        "        # Partidos a distribuir de sábado a lunes\n",
        "        ec_sl = enunciado_eliminar(ec, key_v)\n",
        "        # Ponemos un tipo de partido el lunes\n",
        "        for key_l in reversed(sorted(ec_sl.keys())):\n",
        "            # Partidos a distribuir entre sábado y domingo\n",
        "            slot = [[key_v],[],[],[],[],[],[],[],[],[key_l]]\n",
        "            a = [audiencia_indice_partido[key_v]*audiencia_indice_slot[0],\\\n",
        "                 0,0,0,0,0,0,0,0,\\\n",
        "                 audiencia_indice_partido[key_l]*audiencia_indice_slot[9]]\n",
        "            ec_sd = enunciado_eliminar(ec_sl, key_l)\n",
        "            keys=list(sorted(ec_sd.keys()))\n",
        "            numbers=[ec_sd[k] for k in keys]\n",
        "            for s in recursiva(slot, a, solucion[1], keys, numbers):\n",
        "                # Comprueba si la solución es mejor la reemplaza y si es igual la agregar\n",
        "                if math.isclose(s[1], solucion[1]):\n",
        "                    solucion[0].append(copy.deepcopy(s[0]))\n",
        "                elif s[1] > solucion[1]:\n",
        "                    solucion[0] = [copy.deepcopy(s[0])]\n",
        "                    solucion[1] = s[1]\n",
        "    # Calcula la lista de soluciones totales\n",
        "    resultado = []\n",
        "    for s in solucion[0]:\n",
        "        resultado.append(indices_a_solucion(s))\n",
        "    # Comprueba que todas ellas tienen la audiencia calculada\n",
        "    for s in resultado:\n",
        "        assert(math.isclose(audiencia(s), solucion[1]))\n",
        "    # Devuelve el resultado\n",
        "    return resultado\n",
        "\n",
        "print(\"Soluciones mejores obtenidas por ramificacion y poda:\")\n",
        "for e in enunciados:\n",
        "    soluciones = solucion_poda(e)\n",
        "    print(f\" * {enunciado_a_cadena(e)}: {audiencia(soluciones[0]):.4f} Millones\")\n",
        "    for s in soluciones:\n",
        "        print(f\"   - {solucion_a_cadena(s)}\")\n",
        "        assert(math.isclose(audiencia(s), audiencia(soluciones[0])))"
      ]
    },
    {
      "cell_type": "markdown",
      "metadata": {
        "id": "eGDB4K6uk1iN"
      },
      "source": [
        "(*)Calcula la complejidad del algoritmo"
      ]
    },
    {
      "cell_type": "markdown",
      "metadata": {
        "id": "NhpTh_BPk1ms"
      },
      "source": [
        "**Respuesta**"
      ]
    },
    {
      "cell_type": "code",
      "execution_count": null,
      "metadata": {
        "id": "nREzhkStlCq8"
      },
      "outputs": [],
      "source": []
    },
    {
      "cell_type": "markdown",
      "metadata": {
        "id": "3M6QjTsSkmYe"
      },
      "source": [
        "**Según el problema (y tenga sentido), diseña un juego de datos de entrada aleatorios**"
      ]
    },
    {
      "cell_type": "markdown",
      "metadata": {
        "id": "Jc3_OlyNkvjZ"
      },
      "source": [
        "**Respuesta**"
      ]
    },
    {
      "cell_type": "markdown",
      "metadata": {
        "id": "sJ-N2etjkyWc"
      },
      "source": [
        "No tiene sentido generar más datos de entrada. Ya he solucionado el problema para todos los posibles datos de entrada."
      ]
    },
    {
      "cell_type": "markdown",
      "metadata": {
        "id": "zy5ZROmjlGo1"
      },
      "source": [
        "**Aplica el algoritmo al juego de datos generado**"
      ]
    },
    {
      "cell_type": "markdown",
      "metadata": {
        "id": "_Cmj-PVylMsa"
      },
      "source": [
        "**Respuesta**"
      ]
    },
    {
      "cell_type": "markdown",
      "metadata": {
        "id": "Jkx8GeiYlUz1"
      },
      "source": [
        "Ya he solucionado el problema para todos los posibles datos de entrada."
      ]
    },
    {
      "cell_type": "markdown",
      "metadata": {
        "id": "eTFWUJQrtGcv"
      },
      "source": [
        "**Enumera las referencias que has utilizado(si ha sido necesario) para llevar a cabo el trabajo**"
      ]
    },
    {
      "cell_type": "markdown",
      "metadata": {
        "id": "YKQ_mRBttWsP"
      },
      "source": [
        "**Respuesta**\n",
        "\n",
        "No se ha utilizado ninguna referencia."
      ]
    },
    {
      "cell_type": "markdown",
      "metadata": {
        "id": "kAkDPUyRtYyH"
      },
      "source": [
        "**Describe brevemente las lineas de como crees que es posible avanzar en el estudio del problema. Ten en cuenta incluso posibles variaciones del problema y/o variaciones al alza del tamaño**"
      ]
    },
    {
      "cell_type": "markdown",
      "metadata": {
        "id": "IE0uZmo-tZu-"
      },
      "source": [
        "**Respuesta**"
      ]
    },
    {
      "cell_type": "markdown",
      "metadata": {},
      "source": [
        "Para mi es difícil como mejorar el problema sin crecer en el tamaño. Ya encuentra todas las soluciones óptimas del problema en 160ms de media con garantías. Para acelerarlo, solo se me ocurre diseñar un algoritmo voraz o GRASP más eficaz antes de la ramificiación y poda, para encontrar una solución mejor antes. Después me sigue pareciendo interesante realizar la ramificación y poda, teniendo en cuenta, el poco tiempo que tarda, para ofrecer garantías de encontrar todas las soluciones óptimas.\n",
        "\n",
        "No obstante, si el número partidos (y sobre todo el número de tipo de partidos) creciera mucho, puede que el algoritmo de ramificación y poda ya no sea asumible. Llegado a este caso, puede que esa ramificación en todas las posibles combinaciones deje de tener sentido y limitemos a probar solo las ramas más probables. Para ello se puede priorizar las ramas donde los partidos coincidan menos o con las ramas con los partidos de mayor audiencia en los slots con mayor índice de audiencia.\n",
        "\n",
        "Por los resultados obtenidos, se puede ver, que con los coeficientes dados, en general, es una mala idea tener partidos simultáneos o poner los mejor partidos en slots de tiempo malos (cosa que a priori parecía evidente).\n",
        "\n",
        "Para esto probablemente, una vez que creciera el tamaño, podemos sacrificar las garantías de encontrar todas las soluciones óptimas que ofrece la ramificación y poda, por un coste computacional acotado que puede ofrecer un algoritmo GRASP, por ejemplo."
      ]
    }
  ],
  "metadata": {
    "colab": {
      "provenance": []
    },
    "kernelspec": {
      "display_name": "Python 3",
      "name": "python3"
    },
    "language_info": {
      "codemirror_mode": {
        "name": "ipython",
        "version": 3
      },
      "file_extension": ".py",
      "mimetype": "text/x-python",
      "name": "python",
      "nbconvert_exporter": "python",
      "pygments_lexer": "ipython3",
      "version": "3.10.6"
    }
  },
  "nbformat": 4,
  "nbformat_minor": 0
}
